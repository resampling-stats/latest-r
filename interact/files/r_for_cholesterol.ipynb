{
 "cells": [
  {
   "cell_type": "markdown",
   "id": "1f2a3c70",
   "metadata": {},
   "source": [
    "# Correlation coefficient for compliance and cholesterol"
   ]
  },
  {
   "cell_type": "markdown",
   "id": "e9c25607",
   "metadata": {},
   "source": [
    "Find this notebook on the web at\n",
    "<a class=\"quarto-xref\" href=\"/latest-r/correlation_causation.html#nte-r_for_cholesterol\">Note <span>29.5</span></a>.\n",
    "\n",
    "Calculate correlation coefficient for compliance and cholesterol."
   ]
  },
  {
   "cell_type": "code",
   "execution_count": null,
   "id": "0b2c75da",
   "metadata": {},
   "outputs": [],
   "source": [
    "# Read data from web URL instead of local data directory\n",
    "# (so that notebook works in online version).\n",
    "df <- read.csv('/interact/files/data/cholost.csv')\n",
    "compliance <- df$percent_compliance\n",
    "cholesterol <- df$cholesterol_decrease\n",
    "\n",
    "# Compliance as standard scores.\n",
    "dev_compliance <- compliance - mean(compliance)  # Deviations.\n",
    "stdev_compliance <- sqrt(mean(dev_compliance ** 2))  # Standard deviation.\n",
    "std_compliance <- dev_compliance / stdev_compliance  # Standard scores.\n",
    "\n",
    "# Cholesterol as standard scores.\n",
    "dev_cholesterol <- cholesterol - mean(cholesterol)  # Deviations.\n",
    "stdev_cholesterol <- sqrt(mean(dev_cholesterol ** 2))  # Standard deviation.\n",
    "std_cholesterol <- dev_cholesterol / stdev_cholesterol  # Standard scores.\n",
    "\n",
    "# r value is mean of product for standardized scores.\n",
    "r <- mean(std_compliance * std_cholesterol)\n",
    "\n",
    "message('r for compliance / cholesterol is: ', round(r, 2))"
   ]
  }
 ],
 "metadata": {
  "jupytext": {
   "cell_metadata_filter": "-all",
   "main_language": "R",
   "notebook_metadata_filter": "-all"
  },
  "kernelspec": {
   "display_name": "R (webR)",
   "name": "webR"
  }
 },
 "nbformat": 4,
 "nbformat_minor": 5
}
