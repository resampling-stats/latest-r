{
 "cells": [
  {
   "cell_type": "markdown",
   "id": "b0dfb369",
   "metadata": {},
   "source": [
    "# Voter participation in 1844 election"
   ]
  },
  {
   "cell_type": "markdown",
   "id": "a09e199d",
   "metadata": {},
   "source": [
    "Find this notebook on the web at\n",
    "<a class=\"quarto-xref\" href=\"/latest-r/exercise_solutions.html#nte-voter_participation_solution\">Note <span>A.6</span></a>.\n",
    "\n",
    "Solution for voter participation exercise."
   ]
  },
  {
   "cell_type": "code",
   "execution_count": null,
   "id": "e05be7b2",
   "metadata": {},
   "outputs": [],
   "source": [
    "# Read data from web URL instead of local data directory\n",
    "# (so that notebook works in online version).\n",
    "voter_df <- read.csv('/interact/files/data/election_1844.csv')\n",
    "participation <- voter_df$Participation\n",
    "spread <- voter_df$Spread"
   ]
  },
  {
   "cell_type": "code",
   "execution_count": null,
   "id": "1997a29f",
   "metadata": {},
   "outputs": [],
   "source": [
    "# Compute correlation.  It's -0.425.\n",
    "actual_r <- cor(participation, spread)\n",
    "actual_r"
   ]
  },
  {
   "cell_type": "code",
   "execution_count": null,
   "id": "4e0ce095",
   "metadata": {},
   "outputs": [],
   "source": [
    "n_trials <- 10000\n",
    "results <- numeric(n_trials)\n",
    "\n",
    "for (i in 1:n_trials) {\n",
    "    # Shuffle the participation rates.\n",
    "    shuffled <- sample(participation)\n",
    "    # Compute re-sampled correlation.\n",
    "    fake_r <- cor(shuffled, spread)\n",
    "    # Keep the value in the results.\n",
    "    results[i] <- fake_r\n",
    "}\n",
    "\n",
    "hist(results, breaks=25,\n",
    "     main='Distribution of shuffled correlations',\n",
    "     xlab='Correlation with shuffled participation')\n",
    "\n",
    "# Count the trials when result <= observed.\n",
    "k <- sum(results <= actual_r)\n",
    "# Compute the proportion of such trials.\n",
    "kk <- k / n_trials\n",
    "\n",
    "message('Proportion of shuffled r <= observed: ', round(kk, 2))"
   ]
  }
 ],
 "metadata": {
  "jupytext": {
   "cell_metadata_filter": "-all",
   "main_language": "R",
   "notebook_metadata_filter": "-all"
  },
  "kernelspec": {
   "display_name": "R (webR)",
   "name": "webR"
  }
 },
 "nbformat": 4,
 "nbformat_minor": 5
}
