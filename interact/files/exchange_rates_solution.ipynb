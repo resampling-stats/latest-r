{
 "cells": [
  {
   "cell_type": "markdown",
   "id": "6aef398a",
   "metadata": {},
   "source": [
    "# Exchange rates and money supply"
   ]
  },
  {
   "cell_type": "markdown",
   "id": "d53877f4",
   "metadata": {},
   "source": [
    "Find this notebook on the web at\n",
    "<a class=\"quarto-xref\" href=\"/latest-r/exercise_solutions.html#nte-exchange_rates_solution\">Note <span>A.9</span></a>.\n",
    "\n",
    "Solution notebook for exercise on exchange rates and money supply."
   ]
  },
  {
   "cell_type": "code",
   "execution_count": null,
   "id": "fc2160da",
   "metadata": {},
   "outputs": [],
   "source": [
    "# Read data from web URL instead of local data directory\n",
    "# (so that notebook works in online version).\n",
    "exchange_df <- read.csv('/interact/files/data/exchange_rates.csv')\n",
    "exchange_rates <- exchange_df$exchange_rate\n",
    "money_supply <- exchange_df$money_supply"
   ]
  },
  {
   "cell_type": "code",
   "execution_count": null,
   "id": "7029d455",
   "metadata": {},
   "outputs": [],
   "source": [
    "# Correlation.\n",
    "actual_r <- cor(exchange_rates, money_supply)\n",
    "actual_r"
   ]
  },
  {
   "cell_type": "code",
   "execution_count": null,
   "id": "6dcae51e",
   "metadata": {},
   "outputs": [],
   "source": [
    "n_trials <- 10000\n",
    "results <- numeric(n_trials)\n",
    "\n",
    "for (i in 1:n_trials) {\n",
    "    shuffled_rates <- sample(exchange_rates)\n",
    "    fake_r <- cor(shuffled_rates, money_supply)\n",
    "    results[i] <- fake_r\n",
    "}\n",
    "\n",
    "hist(results, breaks=25,\n",
    "     main='Distribution of shuffled exchange rates r values',\n",
    "     xlab='r for shuffled exchange rate')\n",
    "\n",
    "k <- sum(results >= actual_r)\n",
    "kk <- k / n_trials\n",
    "\n",
    "message('p shuffled r >= actual: ', round(kk, 3))"
   ]
  }
 ],
 "metadata": {
  "jupytext": {
   "cell_metadata_filter": "-all",
   "main_language": "R",
   "notebook_metadata_filter": "-all"
  },
  "kernelspec": {
   "display_name": "R (webR)",
   "name": "webR"
  }
 },
 "nbformat": 4,
 "nbformat_minor": 5
}
