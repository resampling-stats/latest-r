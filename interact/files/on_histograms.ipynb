{
 "cells": [
  {
   "cell_type": "markdown",
   "id": "bae6db5e",
   "metadata": {},
   "source": [
    "# Plotting histograms"
   ]
  },
  {
   "cell_type": "markdown",
   "id": "226d742b",
   "metadata": {},
   "source": [
    "Find this notebook on the web at\n",
    "<a class=\"quarto-xref\" href=\"/latest-r/probability_theory_3.html#nte-on_histograms\">Note <span>12.6</span></a>.\n",
    "\n",
    "A histogram is a visual way to show the *distribution* of a sequence of\n",
    "values.\n"
   ]
  },
  {
   "cell_type": "markdown",
   "id": "1b06480c",
   "metadata": {},
   "source": [
    "The easiest way to explain histograms is to show one.\n",
    "\n",
    "Let’s start with a sequence of values we are interested in:\n",
    "\n",
    "Here are the 24 values for whiskey prices in states that did not have a\n",
    "liquor monopoly (`priv`)."
   ]
  },
  {
   "cell_type": "code",
   "execution_count": null,
   "id": "2595d653",
   "metadata": {},
   "outputs": [],
   "source": [
    "priv <- c(4.82, 5.29, 4.89, 4.95, 4.55, 4.90, 5.25, 5.30, 4.29, 4.85, 4.54,\n",
    "          4.75, 4.85, 4.85, 4.50, 4.75, 4.79, 4.85, 4.79, 4.95, 4.95, 4.75,\n",
    "          5.20, 5.10, 4.80, 4.29)"
   ]
  },
  {
   "cell_type": "markdown",
   "id": "71ea7611",
   "metadata": {},
   "source": [
    "These are the 16 values for states with a liquor monopoly (`govt`):"
   ]
  },
  {
   "cell_type": "code",
   "execution_count": null,
   "id": "f7b8550c",
   "metadata": {},
   "outputs": [],
   "source": [
    "govt <- c(4.65, 4.55, 4.11, 4.15, 4.20, 4.55, 3.80, 4.00, 4.19, 4.75, 4.74,\n",
    "          4.50, 4.10, 4.00, 5.05, 4.20)"
   ]
  },
  {
   "cell_type": "markdown",
   "id": "8585a79b",
   "metadata": {},
   "source": [
    "We concatenate these values to get a sequence (a vector) of all 40\n",
    "liquor prices:"
   ]
  },
  {
   "cell_type": "code",
   "execution_count": null,
   "id": "9b6c9568",
   "metadata": {},
   "outputs": [],
   "source": [
    "prices <- c(priv, govt)\n",
    "prices"
   ]
  },
  {
   "cell_type": "markdown",
   "id": "5146b307",
   "metadata": {},
   "source": [
    "We are interested in the distribution of these 40 values. To show the\n",
    "distribution, we can make and show a histogram of these prices, using\n",
    "the `hist` function in R."
   ]
  },
  {
   "cell_type": "code",
   "execution_count": null,
   "id": "8cd03883",
   "metadata": {},
   "outputs": [],
   "source": [
    "hist_res <- hist(prices)"
   ]
  },
  {
   "cell_type": "markdown",
   "id": "46ce689c",
   "metadata": {},
   "source": [
    "`hist` has calculated a vector of suitable intervals (*bins*) to divide\n",
    "up the range of values, and then counted how many values in `prices`\n",
    "fall into each interval (bin).\n",
    "\n",
    "You will notice that `hist` has sent back some results from the process\n",
    "of making the histogram.\n",
    "\n",
    "The first result of interest to us is the definition of the intervals\n",
    "(bins) into which the histogram has divided the range of `prices`\n",
    "values.\n"
   ]
  },
  {
   "cell_type": "markdown",
   "id": "8e38adfa",
   "metadata": {},
   "source": [
    "In fact, `hist` sent back the edges (or *breaks*) of these bins as part\n",
    "of the `hist_res` results. `hist_res` is a special R value to contain\n",
    "the results of the histogram. It contains various relevant values."
   ]
  },
  {
   "cell_type": "code",
   "execution_count": null,
   "id": "26ad5367",
   "metadata": {},
   "outputs": [],
   "source": [
    "hist_res"
   ]
  },
  {
   "cell_type": "markdown",
   "id": "9b382297",
   "metadata": {},
   "source": [
    "Notice that the values attached to the `hist_res` result have *names*,\n",
    "such as `breaks`, `counts` and so on. To get the attached values from\n",
    "the `hist_res` results, we use the `$` character to mean *attached to*.\n",
    "So read:"
   ]
  },
  {
   "cell_type": "code",
   "execution_count": null,
   "id": "5f4e8ad4",
   "metadata": {},
   "outputs": [],
   "source": [
    "hist_res$counts"
   ]
  },
  {
   "cell_type": "markdown",
   "id": "0e647fbe",
   "metadata": {},
   "source": [
    "as “get the value called `counts` that is attached to the `hist_res`\n",
    "value.”\n",
    "\n",
    "When we called `hist(prices)`, the `hist` function had to decide how\n",
    "many bins to use, and the edges of the bins. By default, it does this\n",
    "with an algorithm called [Sturge’s\n",
    "rule](https://en.wikipedia.org/wiki/Sturges%27s_rule). The details of\n",
    "the algorithm are not important to us, but the result is that `hist`\n",
    "decided to make 9 bins, with the edges you see in the `breaks` value of\n",
    "`hist_res`."
   ]
  },
  {
   "cell_type": "code",
   "execution_count": null,
   "id": "720171bb",
   "metadata": {},
   "outputs": [],
   "source": [
    "# Bin edges\n",
    "hist_res$breaks"
   ]
  },
  {
   "cell_type": "markdown",
   "id": "747c6cb7",
   "metadata": {},
   "source": [
    "Think of the `breaks` values as: the value that starts the first bin,\n",
    "followed by the 9 values that end each of the 9 bins.\n",
    "\n",
    "The `breaks` vector shows that the first bin was from (including) 3.8 up\n",
    "to, *and including* 4.0, the second bin was from (not including) 4.0 up\n",
    "to, and including 4.2 and so on. The last bin is from (not including)\n",
    "5.2 through (including) 5.4. There are 10 edges (breaks), forming 9\n",
    "bins.[^1]\n",
    "\n",
    "Put another way, the edges (boundaries) that `hist` sent back start with\n",
    "the left-hand (inclusive) edge of the first bin, followed by the 9\n",
    "right-hand (inclusive) edges of the 9 bins.\n",
    "\n",
    "The list of results in `hist_res` includes the vector of *counts* of\n",
    "values in `prices` that fall within each bin."
   ]
  },
  {
   "cell_type": "code",
   "execution_count": null,
   "id": "5e40e94f",
   "metadata": {},
   "outputs": [],
   "source": [
    "# Counts of values falling into each bin.\n",
    "hist_res$counts"
   ]
  },
  {
   "cell_type": "markdown",
   "id": "bbf1f368",
   "metadata": {},
   "source": [
    "The `counts` vector shows that 3 values from `prices` fell in the range\n",
    "3.8 through 4.0, 6 values fell in the range from (not including) 4.0\n",
    "through 4.2, and so on.\n",
    "\n",
    "The counts correspond to the heights of the bars on the histogram, so\n",
    "the first bar has height 3, the second bar has height 6, and so on.\n",
    "\n",
    "By default, `hist` uses Sturge’s rule to decide on the number of bins.\n",
    "You can also *suggest* to R that it uses another number of bins, by\n",
    "sending a number for the `breaks` argument to `hist`. For example, you\n",
    "might want to suggest 20 bins:"
   ]
  },
  {
   "cell_type": "code",
   "execution_count": null,
   "id": "319ee679",
   "metadata": {},
   "outputs": [],
   "source": [
    "results_20 <- hist(prices, breaks=20)"
   ]
  },
  {
   "cell_type": "markdown",
   "id": "075dd274",
   "metadata": {},
   "source": [
    "Notice that R treats this number as a suggestion, and will adjust the\n",
    "actual number of bins to something close to the suggestion and that\n",
    "result in suitably rounded bin edges. In fact, R responded to the\n",
    "suggestion of 20 by giving 15 bins:"
   ]
  },
  {
   "cell_type": "code",
   "execution_count": null,
   "id": "0eeda228",
   "metadata": {},
   "outputs": [],
   "source": [
    "length(results_20$counts)"
   ]
  },
  {
   "cell_type": "markdown",
   "id": "5e234b08",
   "metadata": {},
   "source": [
    "We now have 16 new edges (boundaries), the first value giving the\n",
    "(inclusive) left-hand edge of the first bin, and the subsequent 15\n",
    "values giving the (inclusive) right-hand edges."
   ]
  },
  {
   "cell_type": "code",
   "execution_count": null,
   "id": "09a52c31",
   "metadata": {},
   "outputs": [],
   "source": [
    "results_20$breaks"
   ]
  },
  {
   "cell_type": "markdown",
   "id": "c2a85ef4",
   "metadata": {},
   "source": [
    "We can also specify our own `breaks`, in order to bypass `hist`s default\n",
    "algorithm. For example, we might prefer exactly 16 bins of size 0.1,\n",
    "with edges starting at 3.8:"
   ]
  },
  {
   "cell_type": "code",
   "execution_count": null,
   "id": "2662df3d",
   "metadata": {},
   "outputs": [],
   "source": [
    "our_edges <- 3.8 + 0:15 * 0.1\n",
    "our_edges"
   ]
  },
  {
   "cell_type": "markdown",
   "id": "46dd5167",
   "metadata": {},
   "source": [
    "We can send these directly to `hist` to specify the edges (and the\n",
    "number of bins):"
   ]
  },
  {
   "cell_type": "code",
   "execution_count": null,
   "id": "442f176a",
   "metadata": {},
   "outputs": [],
   "source": [
    "results_16 = hist(prices, breaks=our_edges)"
   ]
  },
  {
   "cell_type": "code",
   "execution_count": null,
   "id": "b2dcd019",
   "metadata": {
    "lines_to_next_cell": 0
   },
   "outputs": [],
   "source": [
    "# Show the edges that come back (these are the edges we sent).\n",
    "results_16$breaks"
   ]
  },
  {
   "cell_type": "markdown",
   "id": "bf4853c6",
   "metadata": {},
   "source": []
  },
  {
   "cell_type": "markdown",
   "id": "d6a9313c",
   "metadata": {},
   "source": [
    "[^1]: You can customize the calculation and meaning of the `breaks`\n",
    "    values using various arguments to the `hist` function. See the\n",
    "    documentation of `hist` for more details."
   ]
  }
 ],
 "metadata": {
  "jupytext": {
   "cell_metadata_filter": "-all",
   "main_language": "R",
   "notebook_metadata_filter": "-all"
  },
  "kernelspec": {
   "display_name": "R (webR)",
   "name": "webR"
  }
 },
 "nbformat": 4,
 "nbformat_minor": 5
}
