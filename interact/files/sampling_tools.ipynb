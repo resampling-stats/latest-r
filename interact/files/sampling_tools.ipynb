{
 "cells": [
  {
   "cell_type": "markdown",
   "id": "0b737c04",
   "metadata": {},
   "source": [
    "# Sampling tools"
   ]
  },
  {
   "cell_type": "markdown",
   "id": "4e2bfc47",
   "metadata": {},
   "source": [
    "Find this notebook on the web at\n",
    "<a class=\"quarto-xref\" href=\"/latest-r/sampling_tools.html#nte-sampling_tools\">Note <span>7.1</span></a>.\n",
    "\n",
    "## 7.2 Samples and labels and strings\n",
    "\n",
    "Thus far we have used numbers such as 1 and 0 and 10 to represent the\n",
    "elements we are sampling from. For example, in\n",
    "<a class=\"quarto-xref\" href=\"/latest-r/resampling_with_code2.html\"><span>Chapter 6</span></a>, we were\n",
    "simulating the chance of a particular juror being black, given that 26%\n",
    "of the eligible jurors in the county were black. We used *integers* for\n",
    "that task, where we started with all the integers from 0 through 99, and\n",
    "asked R to select values at random from those integers. When R selected\n",
    "an integer from 0 through 25, we chose to label the resulting simulated\n",
    "juror as black — there are 26 integers in the range 0 through 25, so\n",
    "there is a 26% chance that any one integer will be in that range. If the\n",
    "integer was from 26 through 99, the simulated juror was white (there are\n",
    "74 integers in the range 26 through 99).\n",
    "\n",
    "Here is the process of simulating a single juror, adapted from\n",
    "<a class=\"quarto-xref\" href=\"/latest-r/resampling_with_code2.html#sec-random-zero-through-ninety-nine\"><span>Section 6.3.3</span></a>:"
   ]
  },
  {
   "cell_type": "code",
   "execution_count": null,
   "id": "602396b8",
   "metadata": {},
   "outputs": [],
   "source": [
    "# Get 1 random number from 0 through 99\n",
    "# replace=TRUE is redundant here (why?), but we leave it for consistency.\n",
    "a <- sample(0:99, 1, replace=TRUE)\n",
    "\n",
    "# Show the result\n",
    "a"
   ]
  },
  {
   "cell_type": "markdown",
   "id": "0433736d",
   "metadata": {},
   "source": [
    "After that, we have to unpack our labeling of 0 through 25 as being\n",
    "“black” and 26 through 99 as being “white”. We might do that like this:"
   ]
  },
  {
   "cell_type": "code",
   "execution_count": null,
   "id": "353f565f",
   "metadata": {},
   "outputs": [],
   "source": [
    "this_juror_is_black <- a < 26\n",
    "this_juror_is_black"
   ]
  },
  {
   "cell_type": "markdown",
   "id": "53270de8",
   "metadata": {},
   "source": [
    "This all works as we want it to, but it’s just a little bit difficult to\n",
    "remember the coding (less than 26 means “black”, greater than 25 means\n",
    "“white”). We had to use that coding because we committed ourselves to\n",
    "using random numbers to simulate the outcomes.\n",
    "\n",
    "However, R can also store bits of text, called *strings*. Values that\n",
    "are bits of text can be very useful because the text values can be\n",
    "memorable labels for the entities we are sampling from, in our\n",
    "simulations.\n",
    "\n",
    "Before we get to strings, let us consider the type of the values we have\n",
    "seen so far.\n",
    "\n",
    "## 7.3 Types of values in R\n"
   ]
  },
  {
   "cell_type": "markdown",
   "id": "d112b8c8",
   "metadata": {},
   "source": [
    "So far, all the values we have seen in R are *numeric* — integers or\n",
    "floating point values. This is an integer value:"
   ]
  },
  {
   "cell_type": "code",
   "execution_count": null,
   "id": "39fc576c",
   "metadata": {},
   "outputs": [],
   "source": [
    "v <- 10\n",
    "v"
   ]
  },
  {
   "cell_type": "markdown",
   "id": "e15a0b9c",
   "metadata": {},
   "source": [
    "Here the variable `v` holds the value. We can see what type of value `v`\n",
    "holds by using the `class` function:"
   ]
  },
  {
   "cell_type": "code",
   "execution_count": null,
   "id": "1c7f3b6d",
   "metadata": {},
   "outputs": [],
   "source": [
    "class(v)"
   ]
  },
  {
   "cell_type": "markdown",
   "id": "fca3e016",
   "metadata": {},
   "source": [
    "The value contained by the variable `v` is of `'numeric'` type (class).\n",
    "This is the type of value that can store both integer values (positive\n",
    "or negative whole numbers), or floating point values (values that can\n",
    "have digits after a decimal point. Here’s a floating point value."
   ]
  },
  {
   "cell_type": "code",
   "execution_count": null,
   "id": "31207b96",
   "metadata": {},
   "outputs": [],
   "source": [
    "f <- 10.1\n",
    "class(f)"
   ]
  },
  {
   "cell_type": "markdown",
   "id": "41ac5899",
   "metadata": {},
   "source": [
    "Notice that R also see this as a `\"numeric\"` type of value. However, we\n",
    "are about to see that R values can be of other types, that are not\n",
    "numeric.\n"
   ]
  },
  {
   "cell_type": "markdown",
   "id": "54315888",
   "metadata": {},
   "source": [
    "## 7.4 String values\n",
    "\n",
    "So far, all the values you have seen in R vectors have been numbers. Now\n",
    "we get on to values that are bits of text. These are called *strings*.\n",
    "\n",
    "Here is a single R string value:"
   ]
  },
  {
   "cell_type": "code",
   "execution_count": null,
   "id": "1e861574",
   "metadata": {},
   "outputs": [],
   "source": [
    "s <- \"Resampling\"\n",
    "s"
   ]
  },
  {
   "cell_type": "markdown",
   "id": "7f054eec",
   "metadata": {},
   "source": [
    "What is the `class` of the new bit-of-text value `s`?"
   ]
  },
  {
   "cell_type": "code",
   "execution_count": null,
   "id": "ebf8178a",
   "metadata": {},
   "outputs": [],
   "source": [
    "class(s)"
   ]
  },
  {
   "cell_type": "markdown",
   "id": "d384a0b9",
   "metadata": {},
   "source": [
    "The R `character` value is a bit of text, and therefore consists of a\n",
    "sequence of characters.\n",
    "\n",
    "As vectors are containers for other things, such as numbers, strings are\n",
    "containers for characters.\n",
    "\n",
    "To get the length of a string, use the `nchar` function (Number of\n",
    "Characters):"
   ]
  },
  {
   "cell_type": "code",
   "execution_count": null,
   "id": "783d7f5e",
   "metadata": {},
   "outputs": [],
   "source": [
    "# Number of characters in s\n",
    "nchar(s)"
   ]
  },
  {
   "cell_type": "markdown",
   "id": "de5c9c67",
   "metadata": {},
   "source": [
    "R has a `substring` function that allows you to select individual\n",
    "characters or sequences of characters from a string. The arguments to\n",
    "`substring` are: first — the string; second — the index of the first\n",
    "character you want to select; and third — the index of the last\n",
    "character you want to select. For example to select the second character\n",
    "in the string you would specify 2 as the starting index, and 2 as the\n",
    "ending index, like this:"
   ]
  },
  {
   "cell_type": "code",
   "execution_count": null,
   "id": "1fec7e41",
   "metadata": {},
   "outputs": [],
   "source": [
    "# Get the second character of the string\n",
    "second_char <- substring(s, 2, 2)\n",
    "second_char"
   ]
  },
  {
   "cell_type": "markdown",
   "id": "c8e21791",
   "metadata": {},
   "source": [
    "## 7.5 Strings in vectors\n",
    "\n",
    "As we can store numbers as elements in vectors, we can also store\n",
    "strings as vector elements."
   ]
  },
  {
   "cell_type": "code",
   "execution_count": null,
   "id": "9eb3e284",
   "metadata": {
    "lines_to_next_cell": 0
   },
   "outputs": [],
   "source": [
    "vector_of_strings = c('Julian', 'Lincoln', 'Simon')\n",
    "vector_of_strings"
   ]
  },
  {
   "cell_type": "markdown",
   "id": "c8c8d8e6",
   "metadata": {},
   "source": []
  },
  {
   "cell_type": "markdown",
   "id": "513dd48f",
   "metadata": {},
   "source": [
    "As for any vector, you can select elements with *indexing*. When you\n",
    "select an element with a given position (index), you get the *string* at\n",
    "at that position:\n",
    "\n",
    "Notice the output from this chunk:"
   ]
  },
  {
   "cell_type": "code",
   "execution_count": null,
   "id": "00cc4b3a",
   "metadata": {},
   "outputs": [],
   "source": [
    "# Julian Lincoln Simon's second name\n",
    "middle_name <- vector_of_strings[2]\n",
    "middle_name"
   ]
  },
  {
   "cell_type": "markdown",
   "id": "9f51fe4b",
   "metadata": {},
   "source": [
    "As for numbers, we can compare strings with, for example, the `==`\n",
    "operator, that asks whether the two strings are equal:"
   ]
  },
  {
   "cell_type": "code",
   "execution_count": null,
   "id": "5194ee9e",
   "metadata": {},
   "outputs": [],
   "source": [
    "middle_name == 'Lincoln'"
   ]
  },
  {
   "cell_type": "markdown",
   "id": "82a1b8e5",
   "metadata": {},
   "source": [
    "## 7.6 Repeating elements\n",
    "\n",
    "Now let us go back to the problem of selecting black and white jurors.\n",
    "\n",
    "We started with the strategy of using numbers 0 through 25 to mean\n",
    "“black” jurors, and 26 through 99 to mean “white” jurors. We selected\n",
    "values at random from 0 through 99, and then worked out whether the\n",
    "number meant a “black” juror (was less than 26) or a “white” juror (was\n",
    "greater than 25).\n",
    "\n",
    "It would be good to use strings instead of numbers to identify the\n",
    "potential jurors. Then we would not have to remember our coding of 0\n",
    "through 25 and 26 through 99.\n",
    "\n",
    "If only there was a way to make a vector of 100 strings, where 26 of the\n",
    "strings were “black” and 74 were “white”. Then we could select randomly\n",
    "from that array, and it would be immediately obvious that we had a\n",
    "“black” or “white” juror.\n",
    "\n",
    "Luckily we can do that, by using the `rep` function to construct the\n",
    "vector.\n",
    "\n",
    "**Note: With or without replacement for the original jury selection**\n",
    "\n",
    "You may have noticed in\n",
    "<a class=\"quarto-xref\" href=\"/latest-r/resampling_with_code2.html\"><span>Chapter 6</span></a> that we were\n",
    "sampling Robert Swain’s jury from the eligible pool of jurors, *with\n",
    "replacement*. You might reasonably ask whether we should have selected\n",
    "from the eligible jurors *without replacement*, given that the same\n",
    "juror cannot serve more than once in the same jury, and therefore, the\n",
    "same argument applies there as here.\n",
    "\n",
    "The trick there was that we were selecting from a very large pool of\n",
    "many thousand eligible jurors, of whom 26% were black. Let’s say there\n",
    "were 10,000 eligible jurors, of whom 2,600 were black. When selecting\n",
    "the first juror, there is exactly a 2,600 in 10,000 chance of getting a\n",
    "black juror — 26%. If we do get a black juror first, then the chance\n",
    "that the second juror will be black has changed slightly, 2,599 in\n",
    "9,999. But these changes are very small; even if we select eleven black\n",
    "jurors out of eleven, when we come to the twelfth juror, we still have a\n",
    "2,589 out of 9,989 chance of getting another black juror, and that works\n",
    "out at a 25.92% chance — hardly changed from the original 26%. So yes,\n",
    "you’d be right, we really should have compiled our population of 2,600\n",
    "black jurors and 7,400 white jurors, and then sampled without\n",
    "replacement from that population, but as the resulting sample\n",
    "probabilities will be very similar to the simpler sampling with\n",
    "replacement, we chose to try and slide that one quietly past you, in the\n",
    "hope you would forgive us when you realized.\n",
    "\n",
    "**End of Note: With or without replacement for the original jury\n",
    "selection**\n",
    "\n",
    "## 7.7 Conclusion\n",
    "\n",
    "This chapter introduced you to the idea of strings — values in R that\n",
    "store bits of text. Strings are very useful as labels for the entities\n",
    "we are sampling from, when we do our simulations. Strings are\n",
    "particularly useful when we use them with vectors, and one way we often\n",
    "do that is to build up vectors of strings to sample from, using the\n",
    "`rep` function.\n",
    "\n",
    "There is a fundamental distinction between two different types of\n",
    "sampling — sampling *with replacement*, where we draw an element from a\n",
    "larger pool, then put that element back before drawing again, and\n",
    "sampling *without replacement*, where we remove the element from the\n",
    "remaining pool when we draw it into the sample. As we will see later, it\n",
    "is often a judgment call which of these two types of sampling is a more\n",
    "reasonable model of the world you are trying to simulate.\n",
    "\n",
    "<div class=\"hidden\" id=\"quarto-navigation-envelope\">\n",
    "<span class=\"hidden quarto-markdown-envelope-contents\" render-id=\"quarto-int-sidebar-title\">Resampling statistics</span>\n",
    "<span class=\"hidden quarto-markdown-envelope-contents\" render-id=\"quarto-int-navbar-title\">Resampling statistics</span>\n",
    "<span class=\"hidden quarto-markdown-envelope-contents\" render-id=\"quarto-int-next\"><span class=\"chapter-number\">8</span> \n",
    "<span class=\"chapter-title\">Probability Theory, Part 1</span></span>\n",
    "<span class=\"hidden quarto-markdown-envelope-contents\" render-id=\"quarto-int-prev\"><span class=\"chapter-number\">6</span> \n",
    "<span class=\"chapter-title\">More resampling with code</span></span>\n",
    "<span class=\"hidden quarto-markdown-envelope-contents\" render-id=\"quarto-int-sidebar:/index.html{{&lt;-var-lang-&gt;}}-version\">R\n",
    "version</span> <span class=\"hidden quarto-markdown-envelope-contents\" render-id=\"quarto-int-sidebar:/preface_third.htmlPreface-to-the-third-edition\">Preface\n",
    "to the third edition</span>\n",
    "<span class=\"hidden quarto-markdown-envelope-contents\" render-id=\"quarto-int-sidebar:/preface_second.htmlPreface-to-the-second-edition\">Preface\n",
    "to the second edition</span>\n",
    "<span class=\"hidden quarto-markdown-envelope-contents\" render-id=\"quarto-int-sidebar:/intro.html&lt;span-class='chapter-number'&gt;1&lt;/span&gt;--&lt;span-class='chapter-title'&gt;Introduction&lt;/span&gt;\"><span class=\"chapter-number\">1</span> \n",
    "<span class=\"chapter-title\">Introduction</span></span>\n",
    "<span class=\"hidden quarto-markdown-envelope-contents\" render-id=\"quarto-int-sidebar:/resampling_method.html&lt;span-class='chapter-number'&gt;2&lt;/span&gt;--&lt;span-class='chapter-title'&gt;The-resampling-method&lt;/span&gt;\"><span class=\"chapter-number\">2</span> \n",
    "<span class=\"chapter-title\">The resampling method</span></span>\n",
    "<span class=\"hidden quarto-markdown-envelope-contents\" render-id=\"quarto-int-sidebar:/what_is_probability.html&lt;span-class='chapter-number'&gt;3&lt;/span&gt;--&lt;span-class='chapter-title'&gt;What-is-probability?&lt;/span&gt;\"><span class=\"chapter-number\">3</span> \n",
    "<span class=\"chapter-title\">What is probability?</span></span>\n",
    "<span class=\"hidden quarto-markdown-envelope-contents\" render-id=\"quarto-int-sidebar:/about_technology.html&lt;span-class='chapter-number'&gt;4&lt;/span&gt;--&lt;span-class='chapter-title'&gt;Introducing-{{&lt;-var-lang-&gt;}}-and-the-Jupyter-notebook&lt;/span&gt;\"><span class=\"chapter-number\">4</span> \n",
    "<span class=\"chapter-title\">Introducing R and the Jupyter\n",
    "notebook</span></span>\n",
    "<span class=\"hidden quarto-markdown-envelope-contents\" render-id=\"quarto-int-sidebar:/resampling_with_code.html&lt;span-class='chapter-number'&gt;5&lt;/span&gt;--&lt;span-class='chapter-title'&gt;Resampling-with-code&lt;/span&gt;\"><span class=\"chapter-number\">5</span> \n",
    "<span class=\"chapter-title\">Resampling with code</span></span>\n",
    "<span class=\"hidden quarto-markdown-envelope-contents\" render-id=\"quarto-int-sidebar:/resampling_with_code2.html&lt;span-class='chapter-number'&gt;6&lt;/span&gt;--&lt;span-class='chapter-title'&gt;More-resampling-with-code&lt;/span&gt;\"><span class=\"chapter-number\">6</span> \n",
    "<span class=\"chapter-title\">More resampling with code</span></span>\n",
    "<span class=\"hidden quarto-markdown-envelope-contents\" render-id=\"quarto-int-sidebar:/sampling_tools.html&lt;span-class='chapter-number'&gt;7&lt;/span&gt;--&lt;span-class='chapter-title'&gt;Tools-for-samples-and-sampling&lt;/span&gt;\"><span class=\"chapter-number\">7</span> \n",
    "<span class=\"chapter-title\">Tools for samples and sampling</span></span>\n",
    "<span class=\"hidden quarto-markdown-envelope-contents\" render-id=\"quarto-int-sidebar:/probability_theory_1a.html&lt;span-class='chapter-number'&gt;8&lt;/span&gt;--&lt;span-class='chapter-title'&gt;Probability-Theory,-Part-1&lt;/span&gt;\"><span class=\"chapter-number\">8</span> \n",
    "<span class=\"chapter-title\">Probability Theory, Part 1</span></span>\n",
    "<span class=\"hidden quarto-markdown-envelope-contents\" render-id=\"quarto-int-sidebar:/probability_theory_1b.html&lt;span-class='chapter-number'&gt;9&lt;/span&gt;--&lt;span-class='chapter-title'&gt;Probability-Theory-Part-1-(continued)&lt;/span&gt;\"><span class=\"chapter-number\">9</span> \n",
    "<span class=\"chapter-title\">Probability Theory Part 1\n",
    "(continued)</span></span>\n",
    "<span class=\"hidden quarto-markdown-envelope-contents\" render-id=\"quarto-int-sidebar:/more_sampling_tools.html&lt;span-class='chapter-number'&gt;10&lt;/span&gt;--&lt;span-class='chapter-title'&gt;Two-puzzles-and-more-tools&lt;/span&gt;\"><span class=\"chapter-number\">10</span> \n",
    "<span class=\"chapter-title\">Two puzzles and more tools</span></span>\n",
    "<span class=\"hidden quarto-markdown-envelope-contents\" render-id=\"quarto-int-sidebar:/probability_theory_2_compound.html&lt;span-class='chapter-number'&gt;11&lt;/span&gt;--&lt;span-class='chapter-title'&gt;Probability-Theory,-Part-2:-Compound-Probability&lt;/span&gt;\"><span class=\"chapter-number\">11</span> \n",
    "<span class=\"chapter-title\">Probability Theory, Part 2: Compound\n",
    "Probability</span></span>\n",
    "<span class=\"hidden quarto-markdown-envelope-contents\" render-id=\"quarto-int-sidebar:/probability_theory_3.html&lt;span-class='chapter-number'&gt;12&lt;/span&gt;--&lt;span-class='chapter-title'&gt;Probability-Theory,-Part-3&lt;/span&gt;\"><span class=\"chapter-number\">12</span> \n",
    "<span class=\"chapter-title\">Probability Theory, Part 3</span></span>\n",
    "<span class=\"hidden quarto-markdown-envelope-contents\" render-id=\"quarto-int-sidebar:/probability_theory_4_finite.html&lt;span-class='chapter-number'&gt;13&lt;/span&gt;--&lt;span-class='chapter-title'&gt;Probability-Theory,-Part-4:-Estimating-Probabilities-from-Finite-Universes&lt;/span&gt;\"><span class=\"chapter-number\">13</span> \n",
    "<span class=\"chapter-title\">Probability Theory, Part 4: Estimating\n",
    "Probabilities from Finite Universes</span></span>\n",
    "<span class=\"hidden quarto-markdown-envelope-contents\" render-id=\"quarto-int-sidebar:/sampling_variability.html&lt;span-class='chapter-number'&gt;14&lt;/span&gt;--&lt;span-class='chapter-title'&gt;On-Variability-in-Sampling&lt;/span&gt;\"><span class=\"chapter-number\">14</span> \n",
    "<span class=\"chapter-title\">On Variability in Sampling</span></span>\n",
    "<span class=\"hidden quarto-markdown-envelope-contents\" render-id=\"quarto-int-sidebar:/monte_carlo.html&lt;span-class='chapter-number'&gt;15&lt;/span&gt;--&lt;span-class='chapter-title'&gt;The-Procedures-of-Monte-Carlo-Simulation-(and-Resampling)&lt;/span&gt;\"><span class=\"chapter-number\">15</span> \n",
    "<span class=\"chapter-title\">The Procedures of Monte Carlo Simulation\n",
    "(and Resampling)</span></span>\n",
    "<span class=\"hidden quarto-markdown-envelope-contents\" render-id=\"quarto-int-sidebar:/standard_scores.html&lt;span-class='chapter-number'&gt;16&lt;/span&gt;--&lt;span-class='chapter-title'&gt;Ranks,-Quantiles-and-Standard-Scores&lt;/span&gt;\"><span class=\"chapter-number\">16</span> \n",
    "<span class=\"chapter-title\">Ranks, Quantiles and Standard\n",
    "Scores</span></span>\n",
    "<span class=\"hidden quarto-markdown-envelope-contents\" render-id=\"quarto-int-sidebar:/inference_ideas.html&lt;span-class='chapter-number'&gt;17&lt;/span&gt;--&lt;span-class='chapter-title'&gt;The-Basic-Ideas-in-Statistical-Inference&lt;/span&gt;\"><span class=\"chapter-number\">17</span> \n",
    "<span class=\"chapter-title\">The Basic Ideas in Statistical\n",
    "Inference</span></span>\n",
    "<span class=\"hidden quarto-markdown-envelope-contents\" render-id=\"quarto-int-sidebar:/inference_intro.html&lt;span-class='chapter-number'&gt;18&lt;/span&gt;--&lt;span-class='chapter-title'&gt;Introduction-to-Statistical-Inference&lt;/span&gt;\"><span class=\"chapter-number\">18</span> \n",
    "<span class=\"chapter-title\">Introduction to Statistical\n",
    "Inference</span></span>\n",
    "<span class=\"hidden quarto-markdown-envelope-contents\" render-id=\"quarto-int-sidebar:/point_estimation.html&lt;span-class='chapter-number'&gt;19&lt;/span&gt;--&lt;span-class='chapter-title'&gt;Point-Estimation&lt;/span&gt;\"><span class=\"chapter-number\">19</span> \n",
    "<span class=\"chapter-title\">Point Estimation</span></span>\n",
    "<span class=\"hidden quarto-markdown-envelope-contents\" render-id=\"quarto-int-sidebar:/framing_questions.html&lt;span-class='chapter-number'&gt;20&lt;/span&gt;--&lt;span-class='chapter-title'&gt;Framing-Statistical-Questions&lt;/span&gt;\"><span class=\"chapter-number\">20</span> \n",
    "<span class=\"chapter-title\">Framing Statistical Questions</span></span>\n",
    "<span class=\"hidden quarto-markdown-envelope-contents\" render-id=\"quarto-int-sidebar:/testing_counts_1.html&lt;span-class='chapter-number'&gt;21&lt;/span&gt;--&lt;span-class='chapter-title'&gt;Hypothesis-Testing-with-Counted-Data,-Part-1&lt;/span&gt;\"><span class=\"chapter-number\">21</span> \n",
    "<span class=\"chapter-title\">Hypothesis-Testing with Counted Data, Part\n",
    "1</span></span> <span class=\"hidden quarto-markdown-envelope-contents\" render-id=\"quarto-int-sidebar:/significance.html&lt;span-class='chapter-number'&gt;22&lt;/span&gt;--&lt;span-class='chapter-title'&gt;The-Concept-of-Statistical-Significance-in-Testing-Hypotheses&lt;/span&gt;\"><span class=\"chapter-number\">22</span> \n",
    "<span class=\"chapter-title\">The Concept of Statistical Significance in\n",
    "Testing Hypotheses</span></span>\n",
    "<span class=\"hidden quarto-markdown-envelope-contents\" render-id=\"quarto-int-sidebar:/testing_counts_2.html&lt;span-class='chapter-number'&gt;23&lt;/span&gt;--&lt;span-class='chapter-title'&gt;The-Statistics-of-Hypothesis-Testing-with-Counted-Data,-Part-2&lt;/span&gt;\"><span class=\"chapter-number\">23</span> \n",
    "<span class=\"chapter-title\">The Statistics of Hypothesis-Testing with\n",
    "Counted Data, Part 2</span></span>\n",
    "<span class=\"hidden quarto-markdown-envelope-contents\" render-id=\"quarto-int-sidebar:/testing_measured.html&lt;span-class='chapter-number'&gt;24&lt;/span&gt;--&lt;span-class='chapter-title'&gt;The-Statistics-of-Hypothesis-Testing-With-Measured-Data&lt;/span&gt;\"><span class=\"chapter-number\">24</span> \n",
    "<span class=\"chapter-title\">The Statistics of Hypothesis-Testing With\n",
    "Measured Data</span></span>\n",
    "<span class=\"hidden quarto-markdown-envelope-contents\" render-id=\"quarto-int-sidebar:/testing_procedures.html&lt;span-class='chapter-number'&gt;25&lt;/span&gt;--&lt;span-class='chapter-title'&gt;General-Procedures-for-Testing-Hypotheses&lt;/span&gt;\"><span class=\"chapter-number\">25</span> \n",
    "<span class=\"chapter-title\">General Procedures for Testing\n",
    "Hypotheses</span></span>\n",
    "<span class=\"hidden quarto-markdown-envelope-contents\" render-id=\"quarto-int-sidebar:/confidence_1.html&lt;span-class='chapter-number'&gt;26&lt;/span&gt;--&lt;span-class='chapter-title'&gt;Confidence-Intervals,-Part-1:-Assessing-the-Accuracy-of-Samples&lt;/span&gt;\"><span class=\"chapter-number\">26</span> \n",
    "<span class=\"chapter-title\">Confidence Intervals, Part 1: Assessing the\n",
    "Accuracy of Samples</span></span>\n",
    "<span class=\"hidden quarto-markdown-envelope-contents\" render-id=\"quarto-int-sidebar:/confidence_2.html&lt;span-class='chapter-number'&gt;27&lt;/span&gt;--&lt;span-class='chapter-title'&gt;Confidence-Intervals,-Part-2:-The-Two-Approaches-to-Estimating-Confidence-Intervals&lt;/span&gt;\"><span class=\"chapter-number\">27</span> \n",
    "<span class=\"chapter-title\">Confidence Intervals, Part 2: The Two\n",
    "Approaches to Estimating Confidence Intervals</span></span>\n",
    "<span class=\"hidden quarto-markdown-envelope-contents\" render-id=\"quarto-int-sidebar:/reliability_average.html&lt;span-class='chapter-number'&gt;28&lt;/span&gt;--&lt;span-class='chapter-title'&gt;Some-Last-Words-About-the-Reliability-of-Sample-Averages&lt;/span&gt;\"><span class=\"chapter-number\">28</span> \n",
    "<span class=\"chapter-title\">Some Last Words About the Reliability of\n",
    "Sample Averages</span></span>\n",
    "<span class=\"hidden quarto-markdown-envelope-contents\" render-id=\"quarto-int-sidebar:/correlation_causation.html&lt;span-class='chapter-number'&gt;29&lt;/span&gt;--&lt;span-class='chapter-title'&gt;Correlation-and-Causation&lt;/span&gt;\"><span class=\"chapter-number\">29</span> \n",
    "<span class=\"chapter-title\">Correlation and Causation</span></span>\n",
    "<span class=\"hidden quarto-markdown-envelope-contents\" render-id=\"quarto-int-sidebar:/how_big_sample.html&lt;span-class='chapter-number'&gt;30&lt;/span&gt;--&lt;span-class='chapter-title'&gt;How-Large-a-Sample?&lt;/span&gt;\"><span class=\"chapter-number\">30</span> \n",
    "<span class=\"chapter-title\">How Large a Sample?</span></span>\n",
    "<span class=\"hidden quarto-markdown-envelope-contents\" render-id=\"quarto-int-sidebar:/bayes_simulation.html&lt;span-class='chapter-number'&gt;31&lt;/span&gt;--&lt;span-class='chapter-title'&gt;Bayesian-Analysis-by-Simulation&lt;/span&gt;\"><span class=\"chapter-number\">31</span> \n",
    "<span class=\"chapter-title\">Bayesian Analysis by\n",
    "Simulation</span></span>\n",
    "<span class=\"hidden quarto-markdown-envelope-contents\" render-id=\"quarto-int-sidebar:/references.htmlReferences\">References</span>\n",
    "<span class=\"hidden quarto-markdown-envelope-contents\" render-id=\"quarto-int-sidebar:quarto-sidebar-section-1\">Appendices</span>\n",
    "<span class=\"hidden quarto-markdown-envelope-contents\" render-id=\"quarto-int-sidebar:/exercise_solutions.html&lt;span-class='chapter-number'&gt;A&lt;/span&gt;--&lt;span-class='chapter-title'&gt;Exercise-Solutions&lt;/span&gt;\"><span class=\"chapter-number\">A</span> \n",
    "<span class=\"chapter-title\">Exercise Solutions</span></span>\n",
    "<span class=\"hidden quarto-markdown-envelope-contents\" render-id=\"quarto-int-sidebar:/technical_note.html&lt;span-class='chapter-number'&gt;B&lt;/span&gt;--&lt;span-class='chapter-title'&gt;Technical-Note-to-the-Professional-Reader&lt;/span&gt;\"><span class=\"chapter-number\">B</span> \n",
    "<span class=\"chapter-title\">Technical Note to the Professional\n",
    "Reader</span></span>\n",
    "<span class=\"hidden quarto-markdown-envelope-contents\" render-id=\"quarto-int-sidebar:/acknowlegements.html&lt;span-class='chapter-number'&gt;C&lt;/span&gt;--&lt;span-class='chapter-title'&gt;Acknowledgements&lt;/span&gt;\"><span class=\"chapter-number\">C</span> \n",
    "<span class=\"chapter-title\">Acknowledgements</span></span>\n",
    "<span class=\"hidden quarto-markdown-envelope-contents\" render-id=\"quarto-int-sidebar:/code_topics.html&lt;span-class='chapter-number'&gt;D&lt;/span&gt;--&lt;span-class='chapter-title'&gt;Code-topics&lt;/span&gt;\"><span class=\"chapter-number\">D</span> \n",
    "<span class=\"chapter-title\">Code topics</span></span>\n",
    "<span class=\"hidden quarto-markdown-envelope-contents\" render-id=\"quarto-int-sidebar:/errors_suggestions.html&lt;span-class='chapter-number'&gt;E&lt;/span&gt;--&lt;span-class='chapter-title'&gt;Errors-and-suggestions&lt;/span&gt;\"><span class=\"chapter-number\">E</span> \n",
    "<span class=\"chapter-title\">Errors and suggestions</span></span>\n",
    "<span class=\"hidden quarto-markdown-envelope-contents\" render-id=\"quarto-breadcrumbs-&lt;span-class='chapter-number'&gt;7&lt;/span&gt;--&lt;span-class='chapter-title'&gt;Tools-for-samples-and-sampling&lt;/span&gt;\"><span class=\"chapter-number\">7</span> \n",
    "<span class=\"chapter-title\">Tools for samples and sampling</span></span>\n",
    "</div>\n",
    "<div class=\"hidden\" id=\"quarto-meta-markdown\">\n",
    "<span class=\"hidden quarto-markdown-envelope-contents\" render-id=\"quarto-metatitle\"><span class=\"quarto-section-identifier\" id=\"sec-sampling-tools\"><span class=\"chapter-number\">7</span> \n",
    "<span class=\"chapter-title\">Tools for samples and sampling</span></span>\n",
    "– Resampling statistics</span>\n",
    "<span class=\"hidden quarto-markdown-envelope-contents\" render-id=\"quarto-twittercardtitle\"><span class=\"quarto-section-identifier\" id=\"sec-sampling-tools\"><span class=\"chapter-number\">7</span> \n",
    "<span class=\"chapter-title\">Tools for samples and sampling</span></span>\n",
    "– Resampling statistics</span>\n",
    "<span class=\"hidden quarto-markdown-envelope-contents\" render-id=\"quarto-ogcardtitle\"><span class=\"quarto-section-identifier\" id=\"sec-sampling-tools\"><span class=\"chapter-number\">7</span> \n",
    "<span class=\"chapter-title\">Tools for samples and sampling</span></span>\n",
    "– Resampling statistics</span>\n",
    "<span class=\"hidden quarto-markdown-envelope-contents\" render-id=\"quarto-metasitename\">Resampling statistics</span>\n",
    "<span class=\"hidden quarto-markdown-envelope-contents\" render-id=\"quarto-twittercarddesc\"></span>\n",
    "<span class=\"hidden quarto-markdown-envelope-contents\" render-id=\"quarto-ogcardddesc\"></span>\n",
    "</div>"
   ]
  }
 ],
 "metadata": {
  "jupytext": {
   "cell_metadata_filter": "-all",
   "main_language": "R",
   "notebook_metadata_filter": "-all"
  },
  "kernelspec": {
   "display_name": "R (webR)",
   "name": "webR"
  }
 },
 "nbformat": 4,
 "nbformat_minor": 5
}
