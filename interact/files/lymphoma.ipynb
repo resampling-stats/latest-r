{
 "cells": [
  {
   "cell_type": "markdown",
   "id": "96e0e51c",
   "metadata": {},
   "source": [
    "# Simulating lymphoma trials"
   ]
  },
  {
   "cell_type": "markdown",
   "id": "1164372a",
   "metadata": {},
   "source": [
    "Find this notebook on the web at\n",
    "<a class=\"quarto-xref\" href=\"/latest-r/resampling_with_code.html#nte-lymphoma\">Note <span>5.1</span></a>.\n",
    "\n",
    "## 5.5 Simulate one trial with code\n",
    "\n",
    "We can use the computer to do something very similar to rolling 17\n",
    "10-sided dice, by asking the computer for 17 random whole numbers from 0\n",
    "through 9.\n",
    "\n",
    "**Note: Whole numbers**\n",
    "\n",
    "A whole number is a number that is not negative, and does not have\n",
    "fractional part (does not have anything after a decimal point). 0 and 1\n",
    "and 2 and 3 are whole numbers, but -1 and $\\frac{3}{5}$ and 11.3 are\n",
    "not. The whole numbers from 0 through 9 are 0, 1, 2, 3, 4, 5, 6, 7, 8,\n",
    "9.\n",
    "\n",
    "**End of Note: Whole numbers**\n",
    "\n",
    "We have already discussed what we mean by *random* in\n",
    "<a class=\"quarto-xref\" href=\"/latest-r/resampling_method.html#sec-randomness-computer\"><span>Section 2.2</span></a>.\n",
    "\n",
    "## 5.6 From numbers to vectors\n",
    "\n",
    "We need to prepare the *sequence* of numbers that we want R to select\n",
    "from.\n",
    "\n",
    "We have already seen the idea that R has *values* that are individual\n",
    "numbers. Remember, a *variable* is a *named value*. Here we attach the\n",
    "name `a` to the value 1."
   ]
  },
  {
   "cell_type": "code",
   "execution_count": null,
   "id": "24299954",
   "metadata": {},
   "outputs": [],
   "source": [
    "a <- 1\n",
    "# Show the value of \"a\"\n",
    "a"
   ]
  },
  {
   "cell_type": "markdown",
   "id": "69929363",
   "metadata": {},
   "source": [
    "R also allows *values* that are *sequences of numbers*. R calls these\n",
    "sequences *vectors*.\n",
    "\n",
    "The name *vector* sounds rather technical and mathematical, but the only\n",
    "important idea for us is that a *vector* stores a *sequence* of numbers.\n",
    "\n",
    "Here we make a vector that contains the 10 numbers we will select from:"
   ]
  },
  {
   "cell_type": "code",
   "execution_count": null,
   "id": "97e5b521",
   "metadata": {},
   "outputs": [],
   "source": [
    "# Make a vector of numbers, store with the name \"some_numbers\".\n",
    "some_numbers <- c(0, 1, 2, 3, 4, 5, 6, 7, 8, 9)\n",
    "# Show the value of \"some_numbers\"\n",
    "some_numbers"
   ]
  },
  {
   "cell_type": "markdown",
   "id": "20e69b8a",
   "metadata": {},
   "source": [
    "Notice that the value for `some_numbers` is a vector, and that this\n",
    "value *contains* 10 numbers.\n",
    "\n",
    "Put another way, `some_numbers` is now the name we can use for this\n",
    "collection of 10 values.\n",
    "\n",
    "Vectors are very useful for simulations and data analysis, and we will\n",
    "be using them for nearly every example in this book.\n",
    "\n",
    "## 5.7 Functions\n",
    "\n",
    "*Functions* are another tool that we will be using everywhere, and that\n",
    "you seen already, although we have not introduced them until now.\n",
    "\n",
    "You can think of functions as named *production lines*.\n",
    "\n",
    "For example, consider the R *function* `round`\n",
    "\n",
    "`round` is the name for a simple production line, that takes in a\n",
    "number, and (by default) sends back the number rounded to the nearest\n",
    "*integer*.\n",
    "\n",
    "**Note: What is an integer?**\n",
    "\n",
    "An *integer* is a positive or negative *whole number*.\n",
    "\n",
    "In other words, a number is an *integer* if the number is *either* a\n",
    "whole number (0, 1, 2 …), *or* a negative whole number (-1, -2, -3 …).\n",
    "All of -208, -2, 0, 10, 105 are integers, but $\\frac{3}{5}$, -10.3 and\n",
    "0.2 are not.\n",
    "\n",
    "We will use the term *integer* fairly often, because it is a convenient\n",
    "way to name all the positive and negative whole numbers.\n",
    "\n",
    "**End of Note: What is an integer?**\n",
    "\n",
    "Think of a function as a named *production line*. We sent the function\n",
    "(production line) raw material (components) to work on. The production\n",
    "line does some work on the components. A finished result comes off the\n",
    "other end.\n",
    "\n",
    "Therefore, think of `round` as the name of a production line, that takes\n",
    "in a *component* (in this case, any number), and does some work, and\n",
    "sends back the finished *result* (in this case, the number rounded to\n",
    "the nearest integer.\n",
    "\n",
    "The components we send to a function are called *arguments*. The\n",
    "finished result the function sends back is the *return value*.\n",
    "\n",
    "- **Arguments**: the value or values we send to a function. These are\n",
    "  the components in the production line analogy.\n",
    "- **Return value**: the values the function sends back. This is the\n",
    "  finished result in the production line analogy.\n",
    "\n",
    "See <a class=\"quarto-xref\" href=\"/latest-r/resampling_with_code.html#fig-round_function_pl\">Figure <span>5.2</span></a> for an\n",
    "illustration of `round` as a production line.\n",
    "\n",
    "In the next few code chunks, you see examples where `round` takes in a\n",
    "not-integer number, as an *argument*, and sends back the nearest integer\n",
    "as the *return value*:"
   ]
  },
  {
   "cell_type": "code",
   "execution_count": null,
   "id": "5713a04d",
   "metadata": {},
   "outputs": [],
   "source": [
    "# Put in 3.2, round sends back 3.\n",
    "round(3.2)"
   ]
  },
  {
   "cell_type": "code",
   "execution_count": null,
   "id": "ed43c1ad",
   "metadata": {},
   "outputs": [],
   "source": [
    "# Put in -2.7, round sends back -3.\n",
    "round(-2.7)"
   ]
  },
  {
   "cell_type": "markdown",
   "id": "79b6c80a",
   "metadata": {},
   "source": [
    "Like many functions, `round` can take more than one argument\n",
    "(component). You can send `round` the number of digits you want to round\n",
    "to, after the number of you want it to work on, like this (see\n",
    "<a class=\"quarto-xref\" href=\"/latest-r/resampling_with_code.html#fig-round_ndigits_pl\">Figure <span>5.3</span></a>):"
   ]
  },
  {
   "cell_type": "code",
   "execution_count": null,
   "id": "77080729",
   "metadata": {},
   "outputs": [],
   "source": [
    "# Put in 3.1415, and the number of digits to round to (2).\n",
    "# round sends back 3.14\n",
    "round(3.1415, 2)"
   ]
  },
  {
   "cell_type": "markdown",
   "id": "5e759a1e",
   "metadata": {},
   "source": [
    "Notice that the second argument — here 2 — is *optional*. We only have\n",
    "to send `round` one argument: the number we want it to round. But we can\n",
    "*optionally* send it a second argument — the number of decimal places we\n",
    "want it to round to. If we don’t specify the second argument, then\n",
    "`round` assumes we want to round to 0 decimal places, and therefore, to\n",
    "the nearest integer.\n",
    "\n",
    "## 5.8 Functions and named arguments\n",
    "\n",
    "In the example above, we sent `round` two arguments. `round` knows that\n",
    "we mean the first argument to be the number we want to round, and the\n",
    "second argument is the number of decimal places we want to round to. It\n",
    "knows which is which by the *position* of the arguments — the *first*\n",
    "argument is the *number* it should round, and *second* is the number of\n",
    "digits.\n",
    "\n",
    "In fact, internally, the `round` function also gives these arguments\n",
    "*names*. It calls the number it should round — `x` — and the number of\n",
    "digits it should round to — `digits`. This is useful, because it is\n",
    "often clearer and simpler to identify the argument we are specifying\n",
    "with its name, instead of just relying on its position.\n",
    "\n",
    "If we aren’t using the argument names, we call the round function as we\n",
    "did above:"
   ]
  },
  {
   "cell_type": "code",
   "execution_count": null,
   "id": "ad13a3a2",
   "metadata": {},
   "outputs": [],
   "source": [
    "# Put in 3.1415, and the number of digits to round to (2).\n",
    "# round sends back 3.14\n",
    "round(3.1415, 2)"
   ]
  },
  {
   "cell_type": "markdown",
   "id": "d62bb91d",
   "metadata": {},
   "source": [
    "In this call, we relied on the fact that we, the people writing the\n",
    "code, and you, the person reading the code, remembered that the second\n",
    "argument (2) means the number of decimal places it should round to. But\n",
    "we can also specify the argument using its name, like this (see\n",
    "<a class=\"quarto-xref\" href=\"/latest-r/resampling_with_code.html#fig-round_function_named\">Figure <span>5.4</span></a>):"
   ]
  },
  {
   "cell_type": "code",
   "execution_count": null,
   "id": "61e27feb",
   "metadata": {},
   "outputs": [],
   "source": [
    "# Put in 3.1415, and the number of digits to round to (2).\n",
    "# Use the name of the number-of-decimals argument for clarity:\n",
    "round(3.1415, digits=2)"
   ]
  },
  {
   "cell_type": "markdown",
   "id": "6d134c63",
   "metadata": {},
   "source": [
    "Here R sees the *first* argument, as before, and assumes that it is the\n",
    "number we want to round. Then it sees the second, named argument —\n",
    "`digits=2` — and knows, *from the name*, that we mean this to be the\n",
    "number of decimals to round to.\n",
    "\n",
    "In fact, we could even specify *both* arguments by name, like this:"
   ]
  },
  {
   "cell_type": "code",
   "execution_count": null,
   "id": "2e959bb8",
   "metadata": {},
   "outputs": [],
   "source": [
    "# Put in 3.1415, and the number of digits to round to (2).\n",
    "# Name both arguments.\n",
    "round(x=3.1415, digits=2)"
   ]
  },
  {
   "cell_type": "markdown",
   "id": "8d00e4bd",
   "metadata": {},
   "source": [
    "We don’t usually name both arguments for `round`, as we have above,\n",
    "because it is so obvious that the first argument is the thing we want to\n",
    "round, and so naming the argument does not make it any more clear what\n",
    "the code is doing. But — as so often in programming — whether to use the\n",
    "names, or let R work out which argument is which by position, is a\n",
    "judgment call. The judgment you are making is about the way to write the\n",
    "code to be most clear for your reader, where your most important reader\n",
    "may be you, coming back to the code in a week or a year.\n",
    "\n",
    "**Note: How do you know what names to use for the function arguments?**\n",
    "\n",
    "You can find the names of the function arguments in the help for the\n",
    "function, either online, or in the notebook interface. For example, to\n",
    "get the help for `round`, including the argument names, you could make a\n",
    "new chunk, and type `?round`, then execute the cell by running the\n",
    "chunk. This will show the help for the function in the notebook\n",
    "interface.\n",
    "\n",
    "**End of Note: How do you know what names to use for the function\n",
    "arguments?**\n",
    "\n",
    "## 5.9 Ranges\n",
    "\n",
    "Now let us return to the variable `some_numbers` that we created above:"
   ]
  },
  {
   "cell_type": "code",
   "execution_count": null,
   "id": "18055192",
   "metadata": {},
   "outputs": [],
   "source": [
    "# Make a vector of numbers, store with the name \"some_numbers\".\n",
    "some_numbers <- c(0, 1, 2, 3, 4, 5, 6, 7, 8, 9)\n",
    "# Show the value of \"some_numbers\"\n",
    "some_numbers"
   ]
  },
  {
   "cell_type": "markdown",
   "id": "27ab9c97",
   "metadata": {},
   "source": [
    "In fact, we often need to do this: generate a sequence or *range* of\n",
    "integers, such as 0 through 9.\n",
    "\n",
    "**Note: Pick a number from 1 through 5**\n",
    "\n",
    "Ranges can be confusing in normal speech because it is not always clear\n",
    "whether they include their beginning and end. For example, if someone\n",
    "says “pick a number between 1 and 5”, do they mean to pick from *all* of\n",
    "the numbers, including the first and last (any of 1 or 2 or 3 or 4 or\n",
    "5)? Or do they mean only the numbers that are *between* 1 and 5 (so 2 or\n",
    "3 or 4)? Or do they mean all the numbers up to, but not including 5 (so\n",
    "1 or 2 or 3 or 4)?\n",
    "\n",
    "To avoid this confusion, we will nearly always use “from” and “through”\n",
    "in ranges, meaning that we do include both the start and the end number.\n",
    "For example, if we say “pick a number from 1 through 5” we mean one of 1\n",
    "or 2 or 3 or 4 or 5.\n",
    "\n",
    "**End of Note: Pick a number from 1 through 5**\n",
    "\n",
    "Creating ranges of numbers is so common that R has a special syntax to\n",
    "do that.\n"
   ]
  },
  {
   "cell_type": "markdown",
   "id": "75adf6a4",
   "metadata": {},
   "source": [
    "R allows you to write a colon (`:`) between two values, to mean that you\n",
    "want a *vector* (sequence) that is all the integers from the first value\n",
    "(before the colon) *through* the second value (after the colon):"
   ]
  },
  {
   "cell_type": "code",
   "execution_count": null,
   "id": "9d2157b5",
   "metadata": {},
   "outputs": [],
   "source": [
    "# A vector containing all the integers from 0 through 9.\n",
    "some_integers = 0:9\n",
    "some_integers"
   ]
  },
  {
   "cell_type": "markdown",
   "id": "417372a7",
   "metadata": {},
   "source": [
    "Here are some more examples of the colon syntax:"
   ]
  },
  {
   "cell_type": "code",
   "execution_count": null,
   "id": "3209de65",
   "metadata": {},
   "outputs": [],
   "source": [
    "# All the integers from 10 through 14\n",
    "10:14"
   ]
  },
  {
   "cell_type": "code",
   "execution_count": null,
   "id": "1b839cd9",
   "metadata": {},
   "outputs": [],
   "source": [
    "# All the integers from -1 through 5\n",
    "-1:5"
   ]
  },
  {
   "cell_type": "markdown",
   "id": "577f6a8e",
   "metadata": {},
   "source": [
    "## 5.10 Choosing values at random\n",
    "\n",
    "We can use the `sample` function to select a single value *at random*\n",
    "from the sequence of numbers in `some_integers`.\n",
    "\n",
    "**Note: More on sample**\n",
    "\n",
    "The `sample` function will be a fundamental tool for taking many kinds\n",
    "of samples, and we cover it in more detail in\n",
    "<a class=\"quarto-xref\" href=\"/latest-r/sampling_tools.html\"><span>Chapter 7</span></a>.\n",
    "\n",
    "**End of Note: More on sample**"
   ]
  },
  {
   "cell_type": "code",
   "execution_count": null,
   "id": "81a5262a",
   "metadata": {},
   "outputs": [],
   "source": [
    "# Select 1 integer (the second argument) from the choices in some_integers\n",
    "# (the first argument).\n",
    "my_integer <- sample(some_integers, 1)\n",
    "# Show the value that results.\n",
    "my_integer"
   ]
  },
  {
   "cell_type": "markdown",
   "id": "2f857e1a",
   "metadata": {},
   "source": [
    "Like `round` (above), `sample` is a *function*.\n",
    "\n",
    "As you remember, a function is a named *production line*. In our case,\n",
    "the production line has the name the `sample` function.\n",
    "\n",
    "We sent the `sample` function. a value to work on — an *argument*. In\n",
    "this case, the argument was the value of `some_integers`.\n",
    "\n",
    "`sample` also needs the number of random values we should select from\n",
    "the first argument. We can send the number of values we want with the\n",
    "*second argument*.\n",
    "\n",
    "<a class=\"quarto-xref\" href=\"/latest-r/resampling_with_code.html#fig-sample_pl\">Figure <span>5.5</span></a> is a diagram\n",
    "illustrating an example run of the `sample` function (production line).\n",
    "\n",
    "Here is the same code again, with new comments."
   ]
  },
  {
   "cell_type": "code",
   "execution_count": null,
   "id": "38c44de6",
   "metadata": {},
   "outputs": [],
   "source": [
    "# Send the value of \"some_integers\" to sample.\n",
    "# some_integers is the *argument*.  Ask sample to return 1 of the values.\n",
    "# Put the *return* value from the function into \"my_number\".\n",
    "my_number <- sample(some_integers, 1)\n",
    "# Show the value that results.\n",
    "my_number"
   ]
  },
  {
   "cell_type": "markdown",
   "id": "9c5b0499",
   "metadata": {},
   "source": [
    "## 5.11 Creating vectors with sampling\n",
    "\n",
    "In the code above, we asked R to select a single number at random — by\n",
    "sending 1 as the second argument to the function.\n",
    "\n",
    "As you can imagine, we can tell `sample` to select *any number of\n",
    "values* at random, by changing the second argument to the function.\n",
    "\n",
    "In our case, we would like R to select 17 numbers at random from the\n",
    "sequence of `some_integers`.\n",
    "\n",
    "But — there is a complication here. By default, `sample` selects numbers\n",
    "from the first argument *without replacement*, meaning that, by default,\n",
    "sample cannot select the same number twice, and in our case, where we\n",
    "want 17 numbers, that is bad, because `sample` is going to run out of\n",
    "numbers. To get the result we want, we must also add an extra argument:\n",
    "`replace=TRUE`. `replace=TRUE` tells R to sample `some_integers` *with\n",
    "replacement*, where `sample` can select the same number more than once\n",
    "in the same sample. Sampling with and without replacement is a\n",
    "fundamental distinction in probability and statistics.\n",
    "<a class=\"quarto-xref\" href=\"/latest-r/sampling_tools.html\"><span>Chapter 7</span></a> goes into\n",
    "much more detail about this, but for now, please take our word for it\n",
    "that using `replace=TRUE` for `sample` gives us the same effect as\n",
    "rolling several 10-sided dice."
   ]
  },
  {
   "cell_type": "code",
   "execution_count": null,
   "id": "d72eaf31",
   "metadata": {},
   "outputs": [],
   "source": [
    "# Get 17 values from the *some_integers* vector.\n",
    "# Sample *with replacement*, so sample can select numbers more than once.\n",
    "# Store the 17 numbers with the name \"a\"\n",
    "a <- sample(some_integers, 17, replace=TRUE)\n",
    "# Show the result.\n",
    "a"
   ]
  },
  {
   "cell_type": "markdown",
   "id": "96a2ddad",
   "metadata": {},
   "source": [
    "As you can see, the function sent back (returned) 17 numbers.\n",
    "\n",
    "Because `sample` is sending back more than one number, the result is a\n",
    "vector with 17 elements\n",
    "\n",
    "### 5.11.1 `sum` — adding all the values\n",
    "\n",
    "Bear with us for a short diversion. You will see why we made this\n",
    "diversion soon.\n",
    "\n",
    "R has a function `sum` that will add up all the numbers in a vector.\n",
    "\n",
    "You can see the contents of `a` above.\n",
    "\n",
    "`sum` adds all the numbers in the vector together, to give the *sum* of\n",
    "the vector. The *sum* is just the result of adding all the values in the\n",
    "vector. Put another way, it is the result of adding the second element\n",
    "to the first, then adding third element to the result, and the fourth\n",
    "element to the result, and so on."
   ]
  },
  {
   "cell_type": "code",
   "execution_count": null,
   "id": "eab5ef79",
   "metadata": {},
   "outputs": [],
   "source": [
    "sum(a)"
   ]
  },
  {
   "cell_type": "markdown",
   "id": "38097f2b",
   "metadata": {},
   "source": [
    "## 5.12 Counting results\n",
    "\n",
    "We now have the code to do the equivalent of throwing 17 ten-sided dice.\n",
    "This is the basis for one simulated trial in the world of Saint\n",
    "Hypothetical General.\n",
    "\n",
    "Our next job is to get the code to count the number of numbers that are\n",
    "not zero in the vector `a`. That will give us the number of patients who\n",
    "were cured in simulated trial.\n",
    "\n",
    "Another way of asking this question, is to ask how many elements in `a`\n",
    "are greater than zero.\n",
    "\n",
    "### 5.12.1 Comparison\n",
    "\n",
    "To ask whether a number is greater than zero, we use *comparison*. Here\n",
    "is a *greater than zero* comparison on a single number:"
   ]
  },
  {
   "cell_type": "code",
   "execution_count": null,
   "id": "2715f5f4",
   "metadata": {},
   "outputs": [],
   "source": [
    "n <- 5\n",
    "# Is the value of n greater than 0?\n",
    "# Show the result of the comparison.\n",
    "n > 0"
   ]
  },
  {
   "cell_type": "markdown",
   "id": "b8dbf3e8",
   "metadata": {},
   "source": [
    "`&gt;` is a *comparison* — it *asks a question* about the numbers either\n",
    "side of it. In this case `&gt;` is asking the question “is the value of `n`\n",
    "(on the left hand side) greater than 0 (on the right hand side)?” The\n",
    "value of `n` is 5, so the question becomes, “is 5 greater than 0?” The\n",
    "answer is Yes, and R represents this Yes answer as the value `TRUE`.\n",
    "\n",
    "In contrast, the comparison below boils down to “is 0 greater than 0?”,\n",
    "to which the answer is No, and R represents this as `FALSE`."
   ]
  },
  {
   "cell_type": "code",
   "execution_count": null,
   "id": "f7b8d5df",
   "metadata": {},
   "outputs": [],
   "source": [
    "p <- 0\n",
    "# Is the value of p greater than 0?\n",
    "# Show the result of the comparison.\n",
    "p > 0"
   ]
  },
  {
   "cell_type": "markdown",
   "id": "499971f5",
   "metadata": {},
   "source": [
    "So far you have seen the results of comparison on a single number. Now\n",
    "say we do the same comparison on a vector. For example, say we ask the\n",
    "question “is the value of `a` greater than 0”? Remember, `a` is a vector\n",
    "containing 17 values. We are comparing 17 values to one value (0). What\n",
    "answer do you think R will give? You may want to think a little about\n",
    "this before you read on.\n",
    "\n",
    "As a reminder, here is the current value for `a`:"
   ]
  },
  {
   "cell_type": "code",
   "execution_count": null,
   "id": "93140d9f",
   "metadata": {},
   "outputs": [],
   "source": [
    "# Show the current value for \"a\"\n",
    "a"
   ]
  },
  {
   "cell_type": "markdown",
   "id": "e8f97d2e",
   "metadata": {},
   "source": [
    "Now you have had some time to think, here is what happens:"
   ]
  },
  {
   "cell_type": "code",
   "execution_count": null,
   "id": "9644906e",
   "metadata": {},
   "outputs": [],
   "source": [
    "# Is the value of \"a\" greater than 0?\n",
    "# Show the result of the comparison.\n",
    "a > 0"
   ]
  },
  {
   "cell_type": "markdown",
   "id": "05d116a7",
   "metadata": {},
   "source": [
    "There are 17 values in `a`, so the comparison to 0 means there are 17\n",
    "comparisons, and 17 answers. R therefore returns *a vector* of 17\n",
    "elements, containing these 17 answers. The first answer is the answer to\n",
    "the question “is the value of the *first* element of `a` greater than\n",
    "0”, and the second is the answer to “is the value of the *second*\n",
    "element of `a` greater than 0”.\n",
    "\n",
    "## 5.13 More comparisons\n",
    "\n",
    "While we are here, let us carry on the theme of comparisons. A\n",
    "comparison, such as `&gt;` (greater than) above, asks a question of the\n",
    "values to its left and right. You have already seen:"
   ]
  },
  {
   "cell_type": "code",
   "execution_count": null,
   "id": "d778f698",
   "metadata": {},
   "outputs": [],
   "source": [
    "p <- 0\n",
    "# Is the value of p greater than 0?\n",
    "# Show the result of the comparison.\n",
    "p > 0"
   ]
  },
  {
   "cell_type": "markdown",
   "id": "5c52f974",
   "metadata": {},
   "source": [
    "It won’t surprise you to know that `&lt;` (less than) is another comparison\n",
    "operator. It asks “is the value to the right less than the value to\n",
    "left?”."
   ]
  },
  {
   "cell_type": "code",
   "execution_count": null,
   "id": "51fcd068",
   "metadata": {},
   "outputs": [],
   "source": [
    "p <- 0\n",
    "# Is the value of p less than 0?\n",
    "# Show the result of the comparison.\n",
    "p < 0"
   ]
  },
  {
   "cell_type": "markdown",
   "id": "57090724",
   "metadata": {},
   "source": [
    "As for `&gt;` above, `&lt;` applied to a vector, gives a new vector, with one\n",
    "answer for each element in the vector:"
   ]
  },
  {
   "cell_type": "code",
   "execution_count": null,
   "id": "83ce7741",
   "metadata": {},
   "outputs": [],
   "source": [
    "# Is the value of \"a\" less than 6?\n",
    "# Show the result.\n",
    "a < 6"
   ]
  },
  {
   "cell_type": "markdown",
   "id": "a4e1ec6a",
   "metadata": {},
   "source": [
    "`&gt;` asks “is right greater than left?”. `&lt;` asks “is right less than\n",
    "left?”. We will also have use for a comparison that asks “is right equal\n",
    "to left?”. R uses `==` (double equals) to do this comparison."
   ]
  },
  {
   "cell_type": "code",
   "execution_count": null,
   "id": "03892246",
   "metadata": {},
   "outputs": [],
   "source": [
    "p <- 17\n",
    "# Is the value of p equal to 17?\n",
    "# Show the result of the comparison.\n",
    "p == 17"
   ]
  },
  {
   "cell_type": "markdown",
   "id": "ad8443d5",
   "metadata": {},
   "source": [
    "**Note: Double equals**\n",
    "\n",
    "The *double equals* `==` above is a *comparison* in R.\n",
    "\n",
    "Like `&lt;` and `&gt;`, `==` is a *comparison operator*. It specifies that R\n",
    "should *operate* on the values to its left and to its right. Comparison\n",
    "operators like `&lt;` and `==` are for comparing two values — here the\n",
    "value in `p` and the value 17. This comparison, like all comparisons,\n",
    "returns an answer that is either `TRUE` or `FALSE`. In our case `p` has\n",
    "the value 17, so the comparison becomes `17 == 17`, meaning “is 17 equal\n",
    "to 17?”, to which the answer is “Yes”, and R sends back `TRUE`.\n",
    "\n",
    "**End of Note: Double equals**\n",
    "\n",
    "As you can imagine, and as for `&lt;` and `&gt;`, `==` applied to a vector\n",
    "does the comparison for each element of the vector:"
   ]
  },
  {
   "cell_type": "code",
   "execution_count": null,
   "id": "3319d20c",
   "metadata": {},
   "outputs": [],
   "source": [
    "# Is the value of \"a\" less than 6?\n",
    "# Show the result.\n",
    "a == 6"
   ]
  },
  {
   "cell_type": "markdown",
   "id": "7b9251d8",
   "metadata": {},
   "source": [
    "## 5.14 Counting `TRUE` values with `sum`\n",
    "\n",
    "Let us return to the `&gt;` comparison:"
   ]
  },
  {
   "cell_type": "code",
   "execution_count": null,
   "id": "8048035a",
   "metadata": {},
   "outputs": [],
   "source": [
    "# Is the value of \"a\" greater than 0?\n",
    "# Store the result in q.\n",
    "q <- a > 0\n",
    "# Show the result.\n",
    "q"
   ]
  },
  {
   "cell_type": "markdown",
   "id": "696e8ccf",
   "metadata": {},
   "source": [
    "Notice that there is one `TRUE` element in `q` for every element in `a`\n",
    "that was greater than 0. The next task is to *count* the number of\n",
    "`TRUE` values in `q`, to get the count of patients in our simulated\n",
    "trial who were cured.\n",
    "\n",
    "We can use the R function `sum` to count the number of `TRUE` elements\n",
    "in a vector. As you can see above, `sum` adds up all the elements in a\n",
    "vector, to give a single number. This will work as we want for the `q`\n",
    "vector, because R counts `FALSE` as equal to 0 and `TRUE` as equal to 1:"
   ]
  },
  {
   "cell_type": "code",
   "execution_count": null,
   "id": "7aff53ef",
   "metadata": {},
   "outputs": [],
   "source": [
    "# Question: is FALSE equal to 0?\n",
    "# Answer - Yes! (TRUE)\n",
    "FALSE == 0"
   ]
  },
  {
   "cell_type": "code",
   "execution_count": null,
   "id": "c308daf1",
   "metadata": {},
   "outputs": [],
   "source": [
    "# Question: is TRUE equal to 1?\n",
    "# Answer - Yes! (TRUE)\n",
    "TRUE == 1"
   ]
  },
  {
   "cell_type": "markdown",
   "id": "c5f823db",
   "metadata": {},
   "source": [
    "Therefore, the function `sum`, when applied to a vector of `TRUE` and\n",
    "`FALSE` values, will count the number of `TRUE` values in the vector.\n",
    "\n",
    "To see this in action we can make a new vector of `TRUE` and `FALSE`\n",
    "values, and try using `sum` on the new array."
   ]
  },
  {
   "cell_type": "code",
   "execution_count": null,
   "id": "6f3e6c31",
   "metadata": {},
   "outputs": [],
   "source": [
    "# A vector containing three TRUE values and two FALSE values.\n",
    "trues_and_falses <- c(TRUE, FALSE, TRUE, TRUE, FALSE)\n",
    "# Show the new vector.\n",
    "trues_and_falses"
   ]
  },
  {
   "cell_type": "markdown",
   "id": "a3c00590",
   "metadata": {},
   "source": [
    "The `sum` operation adds all the elements in the vector. Because `TRUE`\n",
    "counts as 1, and `FALSE` counts as 0, adding all the elements in\n",
    "`trues_and_falses` is the same as adding up the values 1 + 0 + 1 + 1 +\n",
    "0, to give 3.\n",
    "\n",
    "We can apply the same operation on `q` to count the number of `TRUE`\n",
    "values."
   ]
  },
  {
   "cell_type": "code",
   "execution_count": null,
   "id": "479977b8",
   "metadata": {},
   "outputs": [],
   "source": [
    "# Count the number of TRUE values in \"q\"\n",
    "# This is the same as the number of values in \"a\" that are greater than 0.\n",
    "b <- sum(q)\n",
    "# Show the result\n",
    "b"
   ]
  },
  {
   "cell_type": "markdown",
   "id": "7af9c217",
   "metadata": {},
   "source": [
    "## 5.15 The procedure for one simulated trial\n",
    "\n",
    "We now have the whole procedure for one simulated trial. We can put the\n",
    "whole procedure in one chunk:"
   ]
  },
  {
   "cell_type": "code",
   "execution_count": null,
   "id": "3b03174b",
   "metadata": {},
   "outputs": [],
   "source": [
    "# Procedure for one simulated trial\n",
    "\n",
    "# Get 17 values from the *some_integers* vector.\n",
    "# Store the 17 numbers with the name \"a\"\n",
    "a <- sample(some_integers, 17, replace=TRUE)\n",
    "# Is the value of \"a\" greater than 0?\n",
    "q <- a > 0\n",
    "# Count the number of TRUE values in \"q\"\n",
    "b <- sum(q)\n",
    "# Show the result of this simulated trial.\n",
    "b"
   ]
  },
  {
   "cell_type": "markdown",
   "id": "76e22fc6",
   "metadata": {},
   "source": [
    "## 5.16 Repeating the trial\n",
    "\n",
    "Now we know how to do one simulated trial, we could just keep running\n",
    "the chunk above, and writing down the result each time. Once we had run\n",
    "the chunk 100 times, we would have 100 counts. Then we could look at the\n",
    "100 counts to see how many were equal to 17 (all 17 simulated patients\n",
    "cured on that trial). At least that would be much faster than rolling 17\n",
    "dice 100 times, but we would also like the computer to automate the\n",
    "process of repeating the trial, while keeping track of the counts.\n",
    "\n",
    "Please forgive us as we race ahead again, as we did in the last chapter.\n",
    "As in the last chapter, we will use a *results* vector called `z` to\n",
    "store the count for each trial. As in the last chapter, we will use a\n",
    "`for` loop to repeat the trial procedure many times. As in the last\n",
    "chapter, we will not explain the counts vector or the `for` loop in any\n",
    "detail, because we are going to cover those in the next chapter.\n",
    "\n",
    "Let us now imagine that we want to do 100 simulated trials at Saint\n",
    "Hypothetical General. This will give us 100 counts. We will want to\n",
    "store the count for each trial.\n",
    "\n",
    "To do this, we make a vector called `z` to hold the 100 counts. We have\n",
    "called the vector `z`, but we could have called it anything we liked,\n",
    "such as `counts` or `results` or `cecilia`."
   ]
  },
  {
   "cell_type": "code",
   "execution_count": null,
   "id": "991db20f",
   "metadata": {},
   "outputs": [],
   "source": [
    "# A vector to hold the 100 count values.\n",
    "# Later, we will fill this in with real count values from simulated trials.\n",
    "z <- numeric(100)"
   ]
  },
  {
   "cell_type": "markdown",
   "id": "cce5f4b6",
   "metadata": {},
   "source": [
    "Next we use a `for` loop to *repeat the single trial procedure*.\n",
    "\n",
    "Notice that the single trial procedure, inside this `for` loop, is the\n",
    "same as the single trial procedure above — the only two differences are:\n",
    "\n",
    "- The trial procedure is inside the loop (as indicated by the curly\n",
    "  brackets `{}`).\n",
    "- We are storing the count for each trial as we go.\n",
    "\n",
    "We will go into more detail on how this works in the next chapter."
   ]
  },
  {
   "cell_type": "code",
   "execution_count": null,
   "id": "95b8ac5b",
   "metadata": {},
   "outputs": [],
   "source": [
    "# Procedure for 100 simulated trials.\n",
    "\n",
    "# A vector to store the counts for each trial.\n",
    "z <- numeric(100)\n",
    "\n",
    "# Repeat the trial procedure 100 times.\n",
    "for (i in 1:100) {\n",
    "    # Get 17 values from the *some_integers* vector.\n",
    "    # Store the 17 numbers with the name \"a\"\n",
    "    a <- sample(some_integers, 17, replace=TRUE)\n",
    "    # Is the value of \"a\" greater than 0?\n",
    "    q <- a > 0\n",
    "    # Count the number of TRUE values in \"q\".\n",
    "    b <- sum(q)\n",
    "    # Store the result at the next position in the \"z\" vector.\n",
    "    z[i] = b\n",
    "    # Now go back and do the next trial until finished.\n",
    "}\n",
    "# Show the result of all 100 trials.\n",
    "z"
   ]
  },
  {
   "cell_type": "markdown",
   "id": "c0e54c69",
   "metadata": {},
   "source": [
    "Finally, we need to count how many of the trials results we stored in\n",
    "`z` gave a “cured” count of 17.\n",
    "\n",
    "We can ask this question of *all 100 counts* by asking the question: “is\n",
    "the vector `z` equal to 17?”, using `==`:"
   ]
  },
  {
   "cell_type": "code",
   "execution_count": null,
   "id": "9731d282",
   "metadata": {},
   "outputs": [],
   "source": [
    "# Is the value of z equal to 17?\n",
    "were_cured <- z == 17\n",
    "# Show the result of the comparison.\n",
    "were_cured"
   ]
  },
  {
   "cell_type": "markdown",
   "id": "f81892c2",
   "metadata": {},
   "source": [
    "Finally we use `sum` to count the number of `TRUE` values in the\n",
    "`were_cured` vector, to give the number of trials where all 17 patients\n",
    "were cured."
   ]
  },
  {
   "cell_type": "code",
   "execution_count": null,
   "id": "0ab88230",
   "metadata": {},
   "outputs": [],
   "source": [
    "# Count the number of TRUE values in \"were_cured\"\n",
    "# This is the same as the number of values in \"z\" that are equal to 17.\n",
    "n_all_cured <- sum(were_cured)\n",
    "# Show the result of the comparison.\n",
    "n_all_cured"
   ]
  },
  {
   "cell_type": "markdown",
   "id": "600839b7",
   "metadata": {},
   "source": [
    "`n_all_cured` is the number of simulated trials for which all patients\n",
    "were cured. It only remains to get the proportion of trials for which\n",
    "this was true, and to do this, we divide by the number of trials."
   ]
  },
  {
   "cell_type": "code",
   "execution_count": null,
   "id": "e5ca50b7",
   "metadata": {},
   "outputs": [],
   "source": [
    "# Proportion of trials where all patients were cured.\n",
    "p <- n_all_cured / 100\n",
    "# Show the result\n",
    "p"
   ]
  },
  {
   "cell_type": "markdown",
   "id": "53f38cc9",
   "metadata": {},
   "source": [
    "From this experiment, we see that there is roughly a 15% chance that all\n",
    "17 patients are cured when using a 90% effective treatment.\n"
   ]
  }
 ],
 "metadata": {
  "jupytext": {
   "cell_metadata_filter": "-all",
   "main_language": "R",
   "notebook_metadata_filter": "-all"
  },
  "kernelspec": {
   "display_name": "R (webR)",
   "name": "webR"
  }
 },
 "nbformat": 4,
 "nbformat_minor": 5
}
