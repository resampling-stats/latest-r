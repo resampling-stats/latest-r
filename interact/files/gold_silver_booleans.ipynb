{
 "cells": [
  {
   "cell_type": "markdown",
   "id": "07299978",
   "metadata": {},
   "source": [
    "# Another approach to ships with gold and silver"
   ]
  },
  {
   "cell_type": "markdown",
   "id": "10e37a4c",
   "metadata": {},
   "source": [
    "This notebook is a variation on the problem with gold and silver chests\n",
    "in ships. It shows how we can count and tally the results at the end,\n",
    "rather than in the trial itself.\n",
    "\n",
    "Notice that the first part of the code is identical to the first\n",
    "approach to this problem. There are two key differences — see the\n",
    "comments for an explanation."
   ]
  },
  {
   "cell_type": "code",
   "execution_count": null,
   "id": "1c199eef",
   "metadata": {},
   "outputs": [],
   "source": [
    "# The 3 buckets, each representing two chests on a ship.\n",
    "# As before.\n",
    "bucket1 <- c('Gold', 'Gold')  # Chests in first ship.\n",
    "bucket2 <- c('Gold',  'Silver')  # Chests in second ship.\n",
    "bucket3 <- c('Silver', 'Silver')  # Chests in third ship."
   ]
  },
  {
   "cell_type": "code",
   "execution_count": null,
   "id": "13aca710",
   "metadata": {},
   "outputs": [],
   "source": [
    "# Here is where the difference starts.  We are now going to fill in\n",
    "# the result for the first chest _and_ the result for the second chest.\n",
    "#\n",
    "# Later we will fill in all these values, so the string we put here\n",
    "# does not matter.\n",
    "\n",
    "# Whether the first chest was Gold or Silver.\n",
    "first_chests <- rep('To be announced', 10000)\n",
    "second_chests <- rep('To be announced', 10000)\n",
    "\n",
    "for (i in 1:10000) {\n",
    "    # Select a ship at random from the three ships.\n",
    "    # As before.\n",
    "    ship_no <- sample(1:3, size=1)\n",
    "    # Get the chests from this ship.\n",
    "    # As before.\n",
    "    if (ship_no == 1) {\n",
    "        bucket <- bucket1\n",
    "    }\n",
    "    if (ship_no == 2) {\n",
    "        bucket <- bucket2\n",
    "    }\n",
    "    if (ship_no == 3) {\n",
    "        bucket <- bucket3\n",
    "    }\n",
    "\n",
    "    # As before.\n",
    "    shuffled <- sample(bucket)\n",
    "\n",
    "    # Here is the big difference - we store the result for the first and second\n",
    "    # chests.\n",
    "    first_chests[i] <- shuffled[1]\n",
    "    second_chests[i] <- shuffled[2]\n",
    "}  # End loop, go back to beginning.\n",
    "\n",
    "# We will do the calculation we need in the next cell.  For now\n",
    "# just display the first 10 values.\n",
    "ten_first_chests <- first_chests[1:10]\n",
    "message('The first 10 values of \"first_chests:')"
   ]
  },
  {
   "cell_type": "code",
   "execution_count": null,
   "id": "681f19dd",
   "metadata": {},
   "outputs": [],
   "source": [
    "print(ten_first_chests)"
   ]
  },
  {
   "cell_type": "code",
   "execution_count": null,
   "id": "84349c5a",
   "metadata": {},
   "outputs": [],
   "source": [
    "ten_second_chests <- second_chests[1:10]\n",
    "message('The first 10 values of \"second_chests:')"
   ]
  },
  {
   "cell_type": "code",
   "execution_count": null,
   "id": "f4f2104f",
   "metadata": {},
   "outputs": [],
   "source": [
    "print(ten_second_chests)"
   ]
  },
  {
   "cell_type": "markdown",
   "id": "254b0fe9",
   "metadata": {},
   "source": [
    "In this variant, we recorded the type of first chest for each trial\n",
    "(“Gold” or “Silver”), and the type of second chest of the second chest\n",
    "(“Gold” or “Silver”).\n",
    "\n",
    "**We would like to count the number of times there was “Gold” in the\n",
    "first chest *and* “Gold” in the second.**\n",
    "\n",
    "## 10.6 Combining Boolean arrays\n",
    "\n",
    "We can do the count we need by *combining* the Boolean vectors with the\n",
    "`&` operator. `&` combines Boolean vectors with a *logical and*.\n",
    "*Logical and* is a rule for combining two Boolean values, where the rule\n",
    "is: the result is `TRUE` if the first value is `TRUE` *and* the second\n",
    "value if `TRUE`.\n",
    "\n",
    "Here we use the `&` *operator* to combine some Boolean values on the\n",
    "left and right of the operator:\n",
    "\n",
    "Above you saw that the `==` operator (as in `== 'Gold'`), when applied\n",
    "to vectors, asks the question of every element in the vector.\n",
    "\n",
    "First make the Boolean vectors."
   ]
  },
  {
   "cell_type": "code",
   "execution_count": null,
   "id": "e004089d",
   "metadata": {},
   "outputs": [],
   "source": [
    "ten_first_gold <- ten_first_chests == 'Gold'\n",
    "message(\"Ten first == 'Gold'\")"
   ]
  },
  {
   "cell_type": "code",
   "execution_count": null,
   "id": "45787872",
   "metadata": {},
   "outputs": [],
   "source": [
    "print(ten_first_gold)"
   ]
  },
  {
   "cell_type": "code",
   "execution_count": null,
   "id": "552600cb",
   "metadata": {},
   "outputs": [],
   "source": [
    "ten_second_gold <- ten_second_chests == 'Gold'\n",
    "message(\"Ten second == 'Gold'\")"
   ]
  },
  {
   "cell_type": "code",
   "execution_count": null,
   "id": "339785c5",
   "metadata": {},
   "outputs": [],
   "source": [
    "print(ten_second_gold)"
   ]
  },
  {
   "cell_type": "markdown",
   "id": "846e3035",
   "metadata": {},
   "source": [
    "Now let us use `&` to combine Boolean vectors:"
   ]
  },
  {
   "cell_type": "code",
   "execution_count": null,
   "id": "8faed20e",
   "metadata": {},
   "outputs": [],
   "source": [
    "ten_both <- (ten_first_gold & ten_second_gold)\n",
    "ten_both"
   ]
  },
  {
   "cell_type": "markdown",
   "id": "93141b8c",
   "metadata": {},
   "source": [
    "Notice that R does the comparison *elementwise* — element by element.\n",
    "\n",
    "You saw that when we did `second_chests == 'Gold'` this had the effect\n",
    "of asking the `== 'Gold'` question of *each element*, so there will be\n",
    "one answer per element in `second_chests`. In that case there was a\n",
    "vector to the *left* of `==` and a single value to the *right*. We were\n",
    "comparing a vector to a value.\n",
    "\n",
    "Here we are asking the `&` question of `ten_first_gold` and\n",
    "`ten_second_gold`. Here there is a vector to the *left* and a vector to\n",
    "the *right*. We are asking the `&` question 10 times, but the first\n",
    "question we are asking is:"
   ]
  },
  {
   "cell_type": "code",
   "execution_count": null,
   "id": "c17fa79c",
   "metadata": {},
   "outputs": [],
   "source": [
    "# First question, giving first element of result.\n",
    "(ten_first_gold[1] & ten_second_gold[1])"
   ]
  },
  {
   "cell_type": "markdown",
   "id": "a210f5fa",
   "metadata": {},
   "source": [
    "The second question is:"
   ]
  },
  {
   "cell_type": "code",
   "execution_count": null,
   "id": "83fe82fe",
   "metadata": {},
   "outputs": [],
   "source": [
    "# Second question, giving second element of result.\n",
    "(ten_first_gold[2] & ten_second_gold[2])"
   ]
  },
  {
   "cell_type": "markdown",
   "id": "2c4ecb7b",
   "metadata": {},
   "source": [
    "and so on. We have ten elements on *each side*, and 10 answers, giving a\n",
    "vector (`ten_both`) of 10 elements. Each element in `ten_both` is the\n",
    "answer to the `&` question for the elements at the corresponding\n",
    "positions in `ten_first_gold` and `ten_second_gold`.\n",
    "\n",
    "We could also create the Boolean vectors and do the `&` operation all in\n",
    "one step, like this:\n"
   ]
  },
  {
   "cell_type": "markdown",
   "id": "e3b5352b",
   "metadata": {},
   "source": [
    "Remember, we wanted the answer to the question: how many trials had\n",
    "“Gold” in the first chest *and* “Gold” in the second. We can answer that\n",
    "question for the first 10 trials with `sum`:"
   ]
  },
  {
   "cell_type": "code",
   "execution_count": null,
   "id": "9816be75",
   "metadata": {},
   "outputs": [],
   "source": [
    "n_ten_both <- sum(ten_both)\n",
    "n_ten_both"
   ]
  },
  {
   "cell_type": "markdown",
   "id": "3af02d5f",
   "metadata": {},
   "source": [
    "We can answer the same question for *all* the trials, in the same way:"
   ]
  },
  {
   "cell_type": "code",
   "execution_count": null,
   "id": "e4a6b220",
   "metadata": {},
   "outputs": [],
   "source": [
    "first_gold <- first_chests == 'Gold'\n",
    "second_gold <- second_chests == 'Gold'\n",
    "n_both_gold <- sum(first_gold & second_gold)\n",
    "n_both_gold"
   ]
  },
  {
   "cell_type": "markdown",
   "id": "8715a2f2",
   "metadata": {},
   "source": [
    "We could also do the same calculation all in one line:"
   ]
  },
  {
   "cell_type": "code",
   "execution_count": null,
   "id": "486b5330",
   "metadata": {},
   "outputs": [],
   "source": [
    "n_both_gold <- sum((first_chests == 'Gold') & (second_chests == 'Gold'))\n",
    "n_both_gold"
   ]
  },
  {
   "cell_type": "markdown",
   "id": "99dc0519",
   "metadata": {},
   "source": [
    "We can then count all the ships where the first chest was gold:"
   ]
  },
  {
   "cell_type": "code",
   "execution_count": null,
   "id": "1ba43493",
   "metadata": {},
   "outputs": [],
   "source": [
    "n_first_gold <- sum(first_chests == 'Gold')\n",
    "n_first_gold"
   ]
  },
  {
   "cell_type": "markdown",
   "id": "0ae8d19a",
   "metadata": {},
   "source": [
    "The final calculation is the proportion of second chests that are gold,\n",
    "given the first chest was also gold:"
   ]
  },
  {
   "cell_type": "code",
   "execution_count": null,
   "id": "2d576325",
   "metadata": {},
   "outputs": [],
   "source": [
    "p_g_given_g <- n_both_gold / n_first_gold\n",
    "p_g_given_g"
   ]
  },
  {
   "cell_type": "markdown",
   "id": "484ac63f",
   "metadata": {},
   "source": [
    "Of course we won’t get exactly the same results from the two\n",
    "simulations, in the same way that we won’t get exactly the same results\n",
    "from any two runs of the same simulation, because of the random values\n",
    "we are using. But the logic for the two simulations are the same, and we\n",
    "are doing many trials (10,000), so the results will be very similar."
   ]
  }
 ],
 "metadata": {
  "jupytext": {
   "cell_metadata_filter": "-all",
   "main_language": "R",
   "notebook_metadata_filter": "-all"
  },
  "kernelspec": {
   "display_name": "R (webR)",
   "name": "webR"
  }
 },
 "nbformat": 4,
 "nbformat_minor": 5
}
