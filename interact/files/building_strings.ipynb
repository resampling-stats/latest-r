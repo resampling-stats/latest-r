{
 "cells": [
  {
   "cell_type": "markdown",
   "id": "8700988f",
   "metadata": {},
   "source": [
    "# Building strings for labels"
   ]
  },
  {
   "cell_type": "markdown",
   "id": "700a5dc9",
   "metadata": {},
   "source": [
    "Find this notebook on the web at\n",
    "<a class=\"quarto-xref\" href=\"/latest-r/testing_counts_1.html#nte-building_strings\">Note <span>21.1</span></a>.\n",
    "\n",
    "As the examples in this book proceed, we will use more code techniques\n",
    "to write the examples in a more concise and efficient way.\n",
    "\n",
    "One task that we often have, is to build up helpful strings to use as\n",
    "labels on plots, or to print out as messages. These strings will often\n",
    "mix numbers and text. For example, we may want to print out a helpful\n",
    "message such as: `Simulation using 10000 trials`, where the number 10000\n",
    "in the message comes from some variable, such as `n_trials`. Let’s set\n",
    "that variable now:"
   ]
  },
  {
   "cell_type": "code",
   "execution_count": null,
   "id": "e517eb8d",
   "metadata": {},
   "outputs": [],
   "source": [
    "n_trials <- 10000"
   ]
  },
  {
   "cell_type": "markdown",
   "id": "0ca14e48",
   "metadata": {},
   "source": [
    "Building the useful string above would involve taking the string\n",
    "`'Simulation using '`, then appending a string to represent the number\n",
    "10,000 — as in:"
   ]
  },
  {
   "cell_type": "code",
   "execution_count": null,
   "id": "67ac76f2",
   "metadata": {},
   "outputs": [],
   "source": [
    "# Convert the number (integer) to a string (character vector) representing the\n",
    "# number.\n",
    "as.character(n_trials)"
   ]
  },
  {
   "cell_type": "markdown",
   "id": "1fa6cf0c",
   "metadata": {},
   "source": [
    "Finally we need to append another string to the result — `' trials.'`.\n",
    "So our task will be to *concatenate* (stick together) these three\n",
    "strings.\n",
    "\n",
    "You can concatenate strings in R with the `paste` function. We pass\n",
    "`paste` the strings and values we want it to combine, as arguments. It\n",
    "converts each argument to a string, and concatenates the resulting\n",
    "strings, separating them with a space (by default).\n",
    "\n",
    "For example, to make a new string that concatenates the strings\n",
    "`'resampling'`, `'is'` and `'better'`, separated by spaces, we could\n",
    "use:"
   ]
  },
  {
   "cell_type": "code",
   "execution_count": null,
   "id": "f47acef4",
   "metadata": {},
   "outputs": [],
   "source": [
    "paste('resampling', 'is', 'better')"
   ]
  },
  {
   "cell_type": "markdown",
   "id": "76e02da3",
   "metadata": {},
   "source": [
    "If we wanted to insert a number as a string into this sequence, we can\n",
    "send the *number* as an argument. `paste` converts the number to a\n",
    "string before concatenation."
   ]
  },
  {
   "cell_type": "code",
   "execution_count": null,
   "id": "9f5387af",
   "metadata": {},
   "outputs": [],
   "source": [
    "paste('resampling', 'is', 100, 'times', 'better')"
   ]
  },
  {
   "cell_type": "markdown",
   "id": "2861fff9",
   "metadata": {},
   "source": [
    "To create the string we started this section with, we could write:"
   ]
  },
  {
   "cell_type": "code",
   "execution_count": null,
   "id": "960c6452",
   "metadata": {},
   "outputs": [],
   "source": [
    "paste('Simulation using', n_trials, 'trials.')"
   ]
  },
  {
   "cell_type": "markdown",
   "id": "2f38290c",
   "metadata": {},
   "source": [
    "We will start using `paste` from here, to compile messages to print, or\n",
    "labels for plots.\n",
    "\n"
   ]
  }
 ],
 "metadata": {
  "jupytext": {
   "cell_metadata_filter": "-all",
   "main_language": "R",
   "notebook_metadata_filter": "-all"
  },
  "kernelspec": {
   "display_name": "R (webR)",
   "name": "webR"
  }
 },
 "nbformat": 4,
 "nbformat_minor": 5
}
