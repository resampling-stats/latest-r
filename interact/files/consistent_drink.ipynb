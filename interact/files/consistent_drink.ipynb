{
 "cells": [
  {
   "cell_type": "markdown",
   "id": "07b8146d",
   "metadata": {},
   "source": [
    "# Does opinion match behavior in a poll?"
   ]
  },
  {
   "cell_type": "markdown",
   "id": "e06ef88b",
   "metadata": {},
   "source": [
    "Find this notebook on the web at\n",
    "<a class=\"quarto-xref\" href=\"/latest-r/correlation_causation.html#nte-consistent_drink\">Note <span>29.7</span></a>.\n",
    "\n",
    "Our aim is to work out the number of matching `drink` and `sale` 1, 0\n",
    "scores in the null-world, where the association between the two is\n",
    "random.\n",
    "\n",
    "To accomplish this aim, we repeat the following procedure 10,000 times\n",
    "using a `for` loop. We shuffle `drink` to `random_drink` so that the\n",
    "responses are randomly ordered. Now when we subtract the corresponding\n",
    "elements of the two vectors, a 0 will appear in each element of the new\n",
    "vector `diffs` for which there was consistency in the response of the\n",
    "two questions. We therefore count (`sum`) the times that `diffs` equals\n",
    "0 and place this result in the vector `consistent` and the number of\n",
    "times `diffs` does not equal 0, and place this result in `inconsistent`.\n",
    "Find the difference (`consistent` minus `inconsistent`), and record the\n",
    "result in the `results` vector for each trial.\n",
    "\n",
    "`results` stores, for each trial, the number of consistent responses\n",
    "minus inconsistent responses. To determine whether the results of the\n",
    "actual sample indicate a relationship between the responses to the two\n",
    "questions, we check how often the random trials had a difference\n",
    "(between consistent and inconsistent responses) as great as 24, the\n",
    "value in the observed sample."
   ]
  },
  {
   "cell_type": "code",
   "execution_count": null,
   "id": "58b3db47",
   "metadata": {},
   "outputs": [],
   "source": [
    "# Constitute the set of 52 beer drinkers, and the set of 26 non-drinkers,\n",
    "# where 1 represents beer drinker, and 0 represents non-drinker.\n",
    "drink <- rep(c(1, 0), c(52, 26))\n",
    "# Show the result\n",
    "drink"
   ]
  },
  {
   "cell_type": "code",
   "execution_count": null,
   "id": "4100820b",
   "metadata": {},
   "outputs": [],
   "source": [
    "# The same set of individuals classified by whether they favor or\n",
    "# don't favor the sale of beer, where 1 represents those who favor\n",
    "# local beer sale, and 0 represents those who do not.\n",
    "sale <- rep(c(1, 0), c(65, 13))\n",
    "# Show the result\n",
    "sale"
   ]
  },
  {
   "cell_type": "code",
   "execution_count": null,
   "id": "c7562783",
   "metadata": {},
   "outputs": [],
   "source": [
    "# Number of repeats.\n",
    "n_trials <- 10000\n",
    "\n",
    "# Array to store the results of each trial.\n",
    "results <- numeric(n_trials)\n",
    "\n",
    "# Repeat the experiment 10,000 times.\n",
    "for (i in 1:n_trials) {\n",
    "    # Shuffle the drink labels..\n",
    "    random_drink <- sample(drink)\n",
    "    # Note — random_drink is now a vector like this:\n",
    "    # [1, 0, 1, 1, 1, 0, 0, 1 ...]\n",
    "\n",
    "    # Subtract the favor/don't favor set from the drink/don't drink set.\n",
    "    # Consistent responses are someone who drinks favoring the sale of beer (a\n",
    "    # 1 and a 1) or someone who doesn't drink opposing the sale of beer.\n",
    "    # When subtracted, consistent responses *(and only consistent responses)*\n",
    "    # produce a 0.\n",
    "    diffs <- random_drink - sale\n",
    "    # Count the number of consistent responses (those equal to 0).\n",
    "    consistent <- sum(diffs == 0)\n",
    "    # Count the \"inconsistent\" responses (those not equal to 0).\n",
    "    inconsistent <- sum(diffs != 0)\n",
    "    # Find the difference.\n",
    "    diff_diff <- consistent - inconsistent\n",
    "    # Keep track of the results of each trial.\n",
    "    results[i] <- diff_diff\n",
    "    # End one trial, go back and repeat until all 10,000 trials are complete.\n",
    "}\n",
    "# Produce a histogram of the trial result.\n",
    "hist(results, breaks=0:40,\n",
    "    main='Consistent-inconsistent responses in null world',\n",
    "    xlab='Consistent-inconsistent responses')\n",
    "\n",
    "# Count differences >= observed.\n",
    "k <- sum(results >= 24)\n",
    "# Proportion.\n",
    "kk <- k / n_trials\n",
    "# Print result.\n",
    "message('Proportion null-world differences >= observed: ', kk)"
   ]
  }
 ],
 "metadata": {
  "jupytext": {
   "cell_metadata_filter": "-all",
   "main_language": "R",
   "notebook_metadata_filter": "-all"
  },
  "kernelspec": {
   "display_name": "R (webR)",
   "name": "webR"
  }
 },
 "nbformat": 4,
 "nbformat_minor": 5
}
