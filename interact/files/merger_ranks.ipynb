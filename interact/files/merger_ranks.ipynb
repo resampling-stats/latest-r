{
 "cells": [
  {
   "cell_type": "markdown",
   "id": "1d99b631",
   "metadata": {},
   "source": [
    "# Merger rank test"
   ]
  },
  {
   "cell_type": "markdown",
   "id": "6deb8953",
   "metadata": {},
   "source": [
    "Find this notebook on the web at\n",
    "<a class=\"quarto-xref\" href=\"/latest-r/testing_counts_2.html#nte-merger_ranks\">Note <span>23.8</span></a>.\n",
    "\n",
    "Test whether observed mean rank is plausible in the null-world where\n",
    "ranks are randomly drawn from 1 through 3."
   ]
  },
  {
   "cell_type": "code",
   "execution_count": null,
   "id": "2d003794",
   "metadata": {},
   "outputs": [],
   "source": [
    "n_iters <- 10000\n",
    "\n",
    "# Make array to store results for each trial.\n",
    "results <- numeric(n_iters)\n",
    "\n",
    "for (i in 1:n_iters) {\n",
    "    ranks <- sample(c(1, 2, 3), size=33, replace=TRUE)\n",
    "    mean_rank <- mean(ranks)\n",
    "    results[i] <- mean_rank\n",
    "}\n",
    "\n",
    "hist(results, breaks=20,\n",
    "     main='Mean ranks from random rank sampling')\n",
    "\n",
    "k <- sum(results <= 1.48)\n",
    "kk <- k / n_iters\n",
    "\n",
    "message('Proportion of mean ranks <= 1.48: ', kk)"
   ]
  }
 ],
 "metadata": {
  "jupytext": {
   "cell_metadata_filter": "-all",
   "main_language": "R",
   "notebook_metadata_filter": "-all"
  },
  "kernelspec": {
   "display_name": "R (webR)",
   "name": "webR"
  }
 },
 "nbformat": 4,
 "nbformat_minor": 5
}
