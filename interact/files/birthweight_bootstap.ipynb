{
 "cells": [
  {
   "cell_type": "markdown",
   "id": "01fdf1c3",
   "metadata": {},
   "source": [
    "# Bootstrap test of birthweight difference"
   ]
  },
  {
   "cell_type": "markdown",
   "id": "3208db45",
   "metadata": {},
   "source": [
    "Find this notebook on the web at\n",
    "<a class=\"quarto-xref\" href=\"/latest-r/testing_measured.html#nte-birthweight_bootstap\">Note <span>24.3</span></a>.\n",
    "\n",
    "We run bootstrap resampling from pooled drug and control birthweights,\n",
    "to establish the null-world distribution of the mean difference in\n",
    "weights. Then we compare the observed difference in means to the\n",
    "null-world distribution to ask if the actual value is plausible in the\n",
    "null world.\n",
    "\n",
    "Proceed with the simulation:"
   ]
  },
  {
   "cell_type": "code",
   "execution_count": null,
   "id": "1a7b7215",
   "metadata": {},
   "outputs": [],
   "source": [
    "# Get treatment and control values from data file.\n",
    "# Read data from web URL instead of local data directory\n",
    "# (so that notebook works in online version).\n",
    "birth_df <- read.csv('/interact/files/data/birthweights.csv')\n",
    "# Birthweidhts for Drug A participants.\n",
    "treat_df <- subset(birth_df, birth_df$Treatment == 'Drug A')\n",
    "# Birthweigts as vector.\n",
    "treat <- treat_df$Birthweight\n",
    "# Control birthweights.\n",
    "control_df <- subset(birth_df, birth_df$Treatment == 'Control')\n",
    "# Birthweigts as vector.\n",
    "control <- control_df$Birthweight\n",
    "\n",
    "# Actual difference.\n",
    "actual_diff <- mean(treat) - mean(control)\n",
    "# Show the actual difference.\n",
    "actual_diff"
   ]
  },
  {
   "cell_type": "markdown",
   "id": "ceeabc1f",
   "metadata": {},
   "source": [
    "Proceed with the simulation:"
   ]
  },
  {
   "cell_type": "code",
   "execution_count": null,
   "id": "6d9a381d",
   "metadata": {},
   "outputs": [],
   "source": [
    "# Concatenate treatment and control vectors.\n",
    "both <- c(treat, control)\n",
    "\n",
    "# Number of trials.\n",
    "n_trials <- 10000\n",
    "\n",
    "# Make vector to store results for each trial.\n",
    "results <- numeric(n_trials)\n",
    "\n",
    "# Do 10000 simulations\n",
    "for (i in 1:n_trials) {\n",
    "    # Take a resample of 15 from all birth weights.\n",
    "    fake_treat <- sample(both, size=15, replace=TRUE)\n",
    "    # Take a second, similar resample.\n",
    "    fake_control <- sample(both, size=15, replace=TRUE)\n",
    "    # Find the means of the two resamples.\n",
    "    mt <- mean(fake_treat)\n",
    "    mc <- mean(fake_control)\n",
    "    # Find the difference between the means of the two resamples.\n",
    "    diff <- mt - mc\n",
    "    # Keep score of the result.\n",
    "    results[i] <- diff\n",
    "    # End the simulation experiment, go back and repeat\n",
    "}\n",
    "# Produce a histogram of the resample differences\n",
    "hist(results, breaks=25,\n",
    "    main='Null-world distribution of treatment/control difference',\n",
    "    xlab='Null-world mean treatment - mean control')\n",
    "# How often did resample differences exceed the observed difference of\n",
    "# .82?\n",
    "k <- sum(results >= actual_diff)\n",
    "kk <- k / n_trials\n",
    "message('Proportion null-world differences >= actual difference: ', kk)"
   ]
  }
 ],
 "metadata": {
  "jupytext": {
   "cell_metadata_filter": "-all",
   "main_language": "R",
   "notebook_metadata_filter": "-all"
  },
  "kernelspec": {
   "display_name": "R (webR)",
   "name": "webR"
  }
 },
 "nbformat": 4,
 "nbformat_minor": 5
}
