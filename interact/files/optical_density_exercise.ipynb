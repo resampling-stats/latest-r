{
 "cells": [
  {
   "cell_type": "markdown",
   "id": "81fa96b9",
   "metadata": {},
   "source": [
    "# Optical density exercise"
   ]
  },
  {
   "cell_type": "markdown",
   "id": "992680a2",
   "metadata": {},
   "source": [
    "Suppose we have 10 measurements of Optical Density on a batch of HIV\n",
    "negative control samples:"
   ]
  },
  {
   "cell_type": "code",
   "execution_count": null,
   "id": "022b38b2",
   "metadata": {},
   "outputs": [],
   "source": [
    "density <- c(.02, .026, .023, .017, .022, .019, .018, .018, .017, .022)"
   ]
  },
  {
   "cell_type": "markdown",
   "id": "18ffcb42",
   "metadata": {},
   "source": [
    "Derive a 95 percent confidence interval for the sample mean. Are there\n",
    "enough measurements to produce a satisfactory answer?"
   ]
  }
 ],
 "metadata": {
  "jupytext": {
   "cell_metadata_filter": "-all",
   "main_language": "R",
   "notebook_metadata_filter": "-all"
  },
  "kernelspec": {
   "display_name": "R (webR)",
   "name": "webR"
  }
 },
 "nbformat": 4,
 "nbformat_minor": 5
}
