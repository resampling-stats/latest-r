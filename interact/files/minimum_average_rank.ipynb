{
 "cells": [
  {
   "cell_type": "markdown",
   "id": "63e796a7",
   "metadata": {},
   "source": [
    "# Minimum average rank"
   ]
  },
  {
   "cell_type": "markdown",
   "id": "827e5fc3",
   "metadata": {},
   "source": [
    "Find this notebook on the web at\n",
    "<a class=\"quarto-xref\" href=\"/latest-r/testing_counts_2.html#nte-minimum_average_rank\">Note <span>23.9</span></a>.\n",
    "\n",
    "The notebook implements the following procedure:\n",
    "\n",
    "1.  Put the numbers “1”, “2” and “3” (corresponding to ranks) in a\n",
    "    bucket\n",
    "2.  Shuffle the numbers and deal them out to three locations that\n",
    "    correspond to treatments (call the locations “t1,” “t2,” and “t3”)\n",
    "3.  Repeat step two another 32 times (for a total of 33 repetitions, for\n",
    "    33 matched triplets)\n",
    "4.  Find the average rank for each location (treatment).\n",
    "5.  Record the minimum (best) score.\n",
    "6.  Repeat steps 2-4, say, 10,000 times.\n",
    "7.  Find out how often the minimum average rank for any treatment is as\n",
    "    low as 1.48."
   ]
  },
  {
   "cell_type": "code",
   "execution_count": null,
   "id": "c79557a5",
   "metadata": {},
   "outputs": [],
   "source": [
    "# Set the number of trials\n",
    "n_iters <- 10000\n",
    "\n",
    "# An empty array to store the trial results.\n",
    "results <- numeric(n_iters)\n",
    "\n",
    "# Step 1 above.\n",
    "bucket <- c(1, 2, 3)\n",
    "\n",
    "n_rows <- 33\n",
    "\n",
    "# Do 10000 trials.\n",
    "for (i in 1:n_iters) {\n",
    "    # Prepare vectors to store shuffled row results.\n",
    "    t1 <- numeric(n_rows)\n",
    "    t2 <- numeric(n_rows)\n",
    "    t3 <- numeric(n_rows)\n",
    "    # Step 3 (for all 33 rows).\n",
    "    for (row_no in 1:n_rows) {\n",
    "        # Step 2.\n",
    "        shuffled <- sample(bucket)\n",
    "        # Step 2 continued.\n",
    "        t1[row_no] <- shuffled[1]\n",
    "        t2[row_no] <- shuffled[2]\n",
    "        t3[row_no] <- shuffled[3]\n",
    "    }\n",
    "    # Step 4.\n",
    "    m_t1 <- mean(t1)\n",
    "    m_t2 <- mean(t2)\n",
    "    m_t3 <- mean(t3)\n",
    "    # Step 5.\n",
    "    means <- c(m_t1, m_t2, m_t3)\n",
    "    min_mean <- min(means)\n",
    "    results[i] <- min_mean\n",
    "}\n",
    "\n",
    "hist(results, breaks=50,\n",
    "     main='Distribution of minimum average rank')\n",
    "\n",
    "# Step 7.\n",
    "k <- sum(results <= 1.49)\n",
    "kk <- k / n_iters\n",
    "\n",
    "message('Proportion minimum average rank <= 1.48: ', kk)"
   ]
  }
 ],
 "metadata": {
  "jupytext": {
   "cell_metadata_filter": "-all",
   "main_language": "R",
   "notebook_metadata_filter": "-all"
  },
  "kernelspec": {
   "display_name": "R (webR)",
   "name": "webR"
  }
 },
 "nbformat": 4,
 "nbformat_minor": 5
}
