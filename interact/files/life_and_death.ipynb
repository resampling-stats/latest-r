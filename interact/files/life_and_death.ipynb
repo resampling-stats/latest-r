{
 "cells": [
  {
   "cell_type": "markdown",
   "id": "4dad7f1c",
   "metadata": {},
   "source": [
    "# Simulating juries"
   ]
  },
  {
   "cell_type": "markdown",
   "id": "57f65f5c",
   "metadata": {},
   "source": [
    "Find this notebook on the web at\n",
    "<a class=\"quarto-xref\" href=\"/latest-r/resampling_with_code2.html#nte-life_and_death\">Note <span>6.1</span></a>.\n",
    "\n",
    "### 6.3.2 Using code to simulate a trial\n",
    "\n",
    "We use the same logic to simulate a trial with the computer. A little\n",
    "code makes the job easier, because we can ask R to give us 12 random\n",
    "numbers from 0 through 99, and to count how many of these numbers are in\n",
    "the range from 75 through 99. Numbers in the range from 75 through 99\n",
    "correspond to black jurors.\n",
    "\n",
    "### 6.3.3 Random numbers from 0 through 99\n",
    "\n",
    "We can now use R and `sample` from the last chapter to get 12 random\n",
    "numbers from 0 through 99."
   ]
  },
  {
   "cell_type": "code",
   "execution_count": null,
   "id": "e03f4a5f",
   "metadata": {},
   "outputs": [],
   "source": [
    "# Get 12 random numbers from 0 through 99\n",
    "a <- sample(0:99, size=12, replace=TRUE)\n",
    "\n",
    "# Show the result\n",
    "a"
   ]
  },
  {
   "cell_type": "markdown",
   "id": "59aa5e52",
   "metadata": {},
   "source": [
    "#### 6.3.3.1 Counting the jurors\n",
    "\n",
    "We use *comparison* and `sum` to count how many numbers are greater than\n",
    "74, and therefore, in the range from 75 through 99:"
   ]
  },
  {
   "cell_type": "code",
   "execution_count": null,
   "id": "4c449bfc",
   "metadata": {},
   "outputs": [],
   "source": [
    "# How many numbers are greater than 74?\n",
    "b <- sum(a > 74)\n",
    "# Show the result\n",
    "b"
   ]
  },
  {
   "cell_type": "markdown",
   "id": "47275c53",
   "metadata": {},
   "source": [
    "#### 6.3.3.2 A single simulated trial\n",
    "\n",
    "We assemble the pieces from the last few sections to make a chunk that\n",
    "simulates a single trial:"
   ]
  },
  {
   "cell_type": "code",
   "execution_count": null,
   "id": "648fcedf",
   "metadata": {},
   "outputs": [],
   "source": [
    "# Get 12 random numbers from 0 through 99\n",
    "a <- sample(0:99, size=12, replace=TRUE)\n",
    "# How many are greater than 74?\n",
    "b <- sum(a > 74)\n",
    "# Show the result\n",
    "b"
   ]
  },
  {
   "cell_type": "markdown",
   "id": "bcd870cd",
   "metadata": {},
   "source": [
    "## 6.4 Three simulation steps\n",
    "\n",
    "Now we come back to the details of how we:\n",
    "\n",
    "1.  Repeat the simulated trial many times;\n",
    "2.  record the results for each trial;\n",
    "3.  calculate the required proportion as an estimate of the probability\n",
    "    we seek.\n",
    "\n",
    "Repeating the trial many times is the job of the `for` loop, and we will\n",
    "come to that soon.\n",
    "\n",
    "In order to record the results, we will store each trial result in a\n",
    "vector.\n",
    "\n",
    "### 6.4.1 More on vectors\n",
    "\n",
    "Since we will be working with vectors a lot, it is worth knowing more\n",
    "about them.\n",
    "\n",
    "A vector is a *container* that stores many elements of the same type.\n",
    "You have already seen, in\n",
    "<a class=\"quarto-xref\" href=\"/latest-r/resampling_method.html\"><span>Chapter 2</span></a>, how we\n",
    "can create a vector from a sequence of numbers using the `c()` function."
   ]
  },
  {
   "cell_type": "code",
   "execution_count": null,
   "id": "9343839b",
   "metadata": {},
   "outputs": [],
   "source": [
    "# Make a vector of numbers, store with the name \"some_numbers\".\n",
    "some_numbers <- c(0, 1, 2, 3, 4, 5, 6, 7, 8, 9)\n",
    "# Show the value of \"some_numbers\"\n",
    "some_numbers"
   ]
  },
  {
   "cell_type": "markdown",
   "id": "63cca5d0",
   "metadata": {},
   "source": [
    "Another way that we can create vectors is to use the `numeric` function\n",
    "to make a new array where all the elements are 0."
   ]
  },
  {
   "cell_type": "code",
   "execution_count": null,
   "id": "c78091b6",
   "metadata": {},
   "outputs": [],
   "source": [
    "# Make a new vector containing 5 zeros.\n",
    "z <- numeric(5)\n",
    "# Show the value of \"z\"\n",
    "z"
   ]
  },
  {
   "cell_type": "markdown",
   "id": "91425754",
   "metadata": {},
   "source": [
    "Notice the argument `5` to the `numeric` function. This tells the\n",
    "function how many zeros we want in the vector that the function will\n",
    "return.\n",
    "\n",
    "## 6.5 Vector length\n",
    "\n",
    "The are various useful things we can do with this vector container. One\n",
    "is to ask how many elements there are in the vector container. We can\n",
    "use the `length` function to calculate the number of elements in a\n",
    "vector:"
   ]
  },
  {
   "cell_type": "code",
   "execution_count": null,
   "id": "7d9e5080",
   "metadata": {},
   "outputs": [],
   "source": [
    "# Show the number of elements in \"z\"\n",
    "length(z)"
   ]
  },
  {
   "cell_type": "markdown",
   "id": "2946533e",
   "metadata": {},
   "source": [
    "## 6.6 Indexing into vectors with integers\n",
    "\n",
    "Another thing we can do with vectors is *set* the value for a particular\n",
    "element. To do this, we use square brackets following the vector value,\n",
    "on the left hand side of the equals sign, like this:"
   ]
  },
  {
   "cell_type": "code",
   "execution_count": null,
   "id": "5ffa1262",
   "metadata": {},
   "outputs": [],
   "source": [
    "# Set the value of the first element in the vector.\n",
    "z[1] = 99\n",
    "# Show the new contents of the vector.\n",
    "z"
   ]
  },
  {
   "cell_type": "markdown",
   "id": "d56892fb",
   "metadata": {},
   "source": [
    "Read the first line of code as “the element at position 1 gets a value\n",
    "of 99”.\n",
    "\n",
    "For practice, let us also set the value of the third element in the\n",
    "vector:"
   ]
  },
  {
   "cell_type": "code",
   "execution_count": null,
   "id": "cc855604",
   "metadata": {},
   "outputs": [],
   "source": [
    "# Set the value of the third element in the vector.\n",
    "z[3] <- 99\n",
    "# Show the new contents of the vector.\n",
    "z"
   ]
  },
  {
   "cell_type": "markdown",
   "id": "48a7d2cd",
   "metadata": {},
   "source": [
    "Read the first code line above as as “set the value at position 3 in the\n",
    "vector to have the value 99”.\n",
    "\n",
    "We can also *get* the value of the element at a given position, using\n",
    "the same square-bracket notation:"
   ]
  },
  {
   "cell_type": "code",
   "execution_count": null,
   "id": "600bca53",
   "metadata": {},
   "outputs": [],
   "source": [
    "# Get the value of the *first* element in the array.\n",
    "# Store the value with name \"v\"\n",
    "v = z[1]\n",
    "# Show the value we got\n",
    "v"
   ]
  },
  {
   "cell_type": "markdown",
   "id": "fcdda1d8",
   "metadata": {},
   "source": [
    "Read the first code line here as “v gets the value at position 1 in the\n",
    "vector”.\n",
    "\n",
    "Using square brackets to get and set element values is called *indexing*\n",
    "into the vector.\n",
    "\n",
    "### 6.6.1 Repeating trials\n",
    "\n",
    "As a preview, let us now imagine that we want to do 50 simulated trials\n",
    "of Robert Swain’s jury in Hypothetical County. We will want to store the\n",
    "count for each trial, to give 50 counts.\n",
    "\n",
    "In order to do this, we make a vector to hold the 50 counts. Call this\n",
    "vector `z`."
   ]
  },
  {
   "cell_type": "code",
   "execution_count": null,
   "id": "d35b2abf",
   "metadata": {},
   "outputs": [],
   "source": [
    "# A vector to hold the 50 count values.\n",
    "z <- numeric(50)"
   ]
  },
  {
   "cell_type": "markdown",
   "id": "2377f480",
   "metadata": {},
   "source": [
    "We could run a single trial to get a single simulated count. Here we\n",
    "just repeat the code chunk you saw above. Notice that we can get a\n",
    "different result each time we run this code, because the numbers in `a`\n",
    "are *random* choices from the range 0 through 99, and different random\n",
    "numbers will give different counts."
   ]
  },
  {
   "cell_type": "code",
   "execution_count": null,
   "id": "b6eb4e34",
   "metadata": {},
   "outputs": [],
   "source": [
    "# Get 12 random numbers from 0 through 99\n",
    "a <- sample(0:99, size=12, replace=TRUE)\n",
    "# How many are greater than 74?\n",
    "b <- sum(a == 9)\n",
    "# Show the result\n",
    "b"
   ]
  },
  {
   "cell_type": "markdown",
   "id": "fde36876",
   "metadata": {},
   "source": [
    "Now we have the result of a single trial, we can store it as the first\n",
    "number in the `z` vector:"
   ]
  },
  {
   "cell_type": "code",
   "execution_count": null,
   "id": "7565e614",
   "metadata": {},
   "outputs": [],
   "source": [
    "# Store the single trial count as the first value in the \"z\" vector.\n",
    "z[1] <- b\n",
    "# Show all the values in the \"z\" vector.\n",
    "z"
   ]
  },
  {
   "cell_type": "markdown",
   "id": "d3c49758",
   "metadata": {},
   "source": [
    "Of course we could just keep doing this: run the chunk corresponding to\n",
    "a trial, above, to get a new count, and then store it at the next\n",
    "position in the `z` vector. For example, we could store the counts for\n",
    "the first three trials with:"
   ]
  },
  {
   "cell_type": "code",
   "execution_count": null,
   "id": "4ed67363",
   "metadata": {},
   "outputs": [],
   "source": [
    "# First trial\n",
    "a <- sample(0:99, size=12, replace=TRUE)\n",
    "b <- sum(a == 9)\n",
    "# Store the result at the first position in z\n",
    "z[1] <- b\n",
    "\n",
    "# Second trial\n",
    "a <- sample(0:99, size=12, replace=TRUE)\n",
    "b <- sum(a == 9)\n",
    "# Store the result at the second position in z\n",
    "z[2] <- b\n",
    "\n",
    "# Third trial\n",
    "a <- sample(0:99, size=12, replace=TRUE)\n",
    "b <- sum(a == 9)\n",
    "# Store the result at the third position in z\n",
    "z[3] <- b\n",
    "\n",
    "# And so on ..."
   ]
  },
  {
   "cell_type": "markdown",
   "id": "e4e09fdb",
   "metadata": {},
   "source": [
    "This would get terribly long and boring to type for 50 trials. Luckily\n",
    "computer code is very good at repeating the same procedure many times.\n",
    "For example, R can do this using a `for` loop. You have already seen a\n",
    "preview of the `for` loop in\n",
    "<a class=\"quarto-xref\" href=\"/latest-r/resampling_method.html\"><span>Chapter 2</span></a>. Here we\n",
    "dive into `for` loops in more depth.\n",
    "\n",
    "### 6.6.2 For-loops in R\n",
    "\n",
    "A for-loop is a way of asking R to:\n",
    "\n",
    "- Take a sequence of things, one by one, and\n",
    "- Do the same task on each one.\n",
    "\n",
    "We often use this idea when we are trying to explain a repeating\n",
    "procedure. For example, imagine we wanted to explain what the\n",
    "supermarket checkout person does for the items in your shopping basket.\n",
    "You might say that they do this:\n",
    "\n",
    "&gt; For each item of shopping in your basket, they take the item off the\n",
    "&gt; conveyor belt, scan it, and put it on the other side of the till.\n",
    "\n",
    "You could also break this description up into bullet points with\n",
    "indentation, to say the same thing:\n",
    "\n",
    "- For each item from your shopping basket, they:\n",
    "  - Take the item off the conveyor belt.\n",
    "  - Scan the item.\n",
    "  - Put it on the other side of the till.\n",
    "\n",
    "Notice the logic; the checkout person is repeating the same procedure\n",
    "for each of a series of items.\n",
    "\n",
    "This is the logic of the `for` loop in R. The procedure that R repeats\n",
    "is called the *body of the for loop*. In the example of the checkout\n",
    "person above, the repeating procedure is:\n",
    "\n",
    "- Take the item off the conveyor belt.\n",
    "- Scan the item.\n",
    "- Put it on the other side of the till.\n",
    "\n",
    "Now imagine we wanted to use R to print out the year of birth for each\n",
    "of the authors for the third edition of this book:\n",
    "\n",
    "| Author               | Year of birth |\n",
    "|----------------------|---------------|\n",
    "| Julian Lincoln Simon | 1932          |\n",
    "| Matthew Brett        | 1964          |\n",
    "| Stéfan van der Walt  | 1980          |\n",
    "\n",
    "We want to see this output:\n",
    "\n",
    "    Author birth year is 1932\n",
    "    Author birth year is 1964\n",
    "    Author birth year is 1980\n",
    "\n",
    "Of course, we could just ask R to print out these exact lines, like\n",
    "this:"
   ]
  },
  {
   "cell_type": "code",
   "execution_count": null,
   "id": "0ec53832",
   "metadata": {},
   "outputs": [],
   "source": [
    "message('Author birth year is 1932')"
   ]
  },
  {
   "cell_type": "code",
   "execution_count": null,
   "id": "85c01039",
   "metadata": {},
   "outputs": [],
   "source": [
    "message('Author birth year is 1964')"
   ]
  },
  {
   "cell_type": "code",
   "execution_count": null,
   "id": "a520eb4c",
   "metadata": {},
   "outputs": [],
   "source": [
    "message('Author birth year is 1980')"
   ]
  },
  {
   "cell_type": "markdown",
   "id": "61abc7ce",
   "metadata": {},
   "source": [
    "We might instead notice that we are repeating the same procedure for\n",
    "each of the three birth years, and decide to do the same thing using a\n",
    "`for` loop:"
   ]
  },
  {
   "cell_type": "code",
   "execution_count": null,
   "id": "1b25a1c2",
   "metadata": {},
   "outputs": [],
   "source": [
    "author_birth_years <- c(1932, 1964, 1980)\n",
    "\n",
    "# For each birth year\n",
    "for (birth_year in author_birth_years) {\n",
    "    # Repeat this procedure ...\n",
    "    message('Author birth year is ', birth_year)\n",
    "}"
   ]
  },
  {
   "cell_type": "markdown",
   "id": "cbb6280e",
   "metadata": {},
   "source": [
    "The `for` loop starts with a line where we tell it what items we want to\n",
    "repeat the procedure for:\n",
    "\n",
    "    for (birth_year in author_birth_years) {\n",
    "\n",
    "This *initial line* of the `for` loop ends with an *opening curly brace*\n",
    "`{`. The opening curly brace tells R that what follows, up until the\n",
    "matching closing curly brace `}`, is the procedure R should follow for\n",
    "each item. The lines between the opening `{` and closing `}` curly\n",
    "braces\\* are the *body of the for loop*.\n",
    "\n",
    "The initial line of the `for` loop above tells R that it should take\n",
    "*each item* in `author_birth_years`, one by one — first 1932, then 1964,\n",
    "then 1980. For each of these numbers it will:\n",
    "\n",
    "- Put the number into the variable `birth_year`, then\n",
    "- Run the code between the curly braces.\n",
    "\n",
    "Just as the person at the supermarket checkout takes each item in turn,\n",
    "for each iteration (repeat) of the `for` loop, `birth_year` gets a new\n",
    "value from the sequence in `author_birth_years`. `birth_year` is called\n",
    "the *loop variable*, because it is the variable that gets a new value\n",
    "each time we begin a new iteration of the `for` loop procedure. As for\n",
    "any variable in R, we can call our loop variable anything we like. We\n",
    "used `birth_year` here, but we could have used `y` or `year` or some\n",
    "other name.\n",
    "\n",
    "Notice that R insists we put parentheses (round brackets) around: the\n",
    "loop variable; `in`; and the sequence that will fill the loop variable —\n",
    "like this:\n",
    "\n",
    "    for (birth_year in author_birth_years) {\n",
    "\n",
    "Do not forget these round brackets — R insists on them.\n",
    "\n",
    "Now you know what the `for` loop is doing, you can see that the `for`\n",
    "loop above is equivalent to the following code:"
   ]
  },
  {
   "cell_type": "code",
   "execution_count": null,
   "id": "82c64e04",
   "metadata": {},
   "outputs": [],
   "source": [
    "birth_year <- 1932  # Set the loop variable to contain the first value.\n",
    "message('Author birth year is ', birth_year)  # Use the first value."
   ]
  },
  {
   "cell_type": "code",
   "execution_count": null,
   "id": "30379922",
   "metadata": {},
   "outputs": [],
   "source": [
    "birth_year <- 1964  # Set the loop variable to contain the next value.\n",
    "message('Author birth year is ', birth_year)  # Use the second value."
   ]
  },
  {
   "cell_type": "code",
   "execution_count": null,
   "id": "ae494de3",
   "metadata": {},
   "outputs": [],
   "source": [
    "birth_year <- 1980\n",
    "message('Author birth year is ', birth_year)"
   ]
  },
  {
   "cell_type": "markdown",
   "id": "3c2449fe",
   "metadata": {},
   "source": [
    "Writing the steps in the `for` loop out like this is called *unrolling*\n",
    "the loop. It can be a useful exercise to do this when you come across a\n",
    "`for` loop, in order to work through the logic of the loop. For example,\n",
    "you may want to write out the unrolled equivalent of the first couple of\n",
    "iterations, to see what the loop variable will be, and what will happen\n",
    "in the body of the loop.\n",
    "\n",
    "We often use `for` loops with ranges (see\n",
    "<a class=\"quarto-xref\" href=\"/latest-r/resampling_with_code.html#sec-ranges\"><span>Section 5.9</span></a>). Here we use a loop\n",
    "to print out the numbers 1 through 4:"
   ]
  },
  {
   "cell_type": "code",
   "execution_count": null,
   "id": "a0269847",
   "metadata": {},
   "outputs": [],
   "source": [
    "for (n in 1:4) {\n",
    "    message('The loop variable n is ', n)\n",
    "}"
   ]
  },
  {
   "cell_type": "markdown",
   "id": "345ee864",
   "metadata": {},
   "source": [
    "Notice that the range ended at 4, and that means we repeat the loop body\n",
    "4 times. We can also use the loop variable value from the range as an\n",
    "*index*, to get or set the first, second, etc values from a vector.\n",
    "\n",
    "For example, maybe we would like to show the author position *and* the\n",
    "author year of birth.\n",
    "\n",
    "Remember our author birth years:"
   ]
  },
  {
   "cell_type": "code",
   "execution_count": null,
   "id": "9b448c3b",
   "metadata": {},
   "outputs": [],
   "source": [
    "author_birth_years"
   ]
  },
  {
   "cell_type": "markdown",
   "id": "fade3c6a",
   "metadata": {},
   "source": [
    "We can get (for example) the second author birth year with:"
   ]
  },
  {
   "cell_type": "code",
   "execution_count": null,
   "id": "ca9d66ad",
   "metadata": {},
   "outputs": [],
   "source": [
    "author_birth_years[2]"
   ]
  },
  {
   "cell_type": "markdown",
   "id": "87a16d83",
   "metadata": {},
   "source": [
    "Using the combination of looping over a range, and vector indexing, we\n",
    "can print out the author position *and* the author birth year:"
   ]
  },
  {
   "cell_type": "code",
   "execution_count": null,
   "id": "627a4e84",
   "metadata": {},
   "outputs": [],
   "source": [
    "for (n in 1:3) {\n",
    "    year <- author_birth_years[n]\n",
    "    message('Birth year of author position ', n, ' is ', year)\n",
    "}"
   ]
  },
  {
   "cell_type": "markdown",
   "id": "96d1cde5",
   "metadata": {},
   "source": [
    "Just for practice, let us unroll the three iterations through this `for`\n",
    "loop, to remind ourselves what the code is doing:"
   ]
  },
  {
   "cell_type": "code",
   "execution_count": null,
   "id": "c5e1b31f",
   "metadata": {},
   "outputs": [],
   "source": [
    "# Unrolling the for loop.\n",
    "n <- 1\n",
    "year <- author_birth_years[n]  # Will be 1932\n",
    "message('Birth year of author position ', n, ' is ', year)"
   ]
  },
  {
   "cell_type": "code",
   "execution_count": null,
   "id": "679ccb0c",
   "metadata": {},
   "outputs": [],
   "source": [
    "n <- 2\n",
    "year <- author_birth_years[n]  # Will be 1964\n",
    "message('Birth year of author position ', n, ' is ', year)"
   ]
  },
  {
   "cell_type": "code",
   "execution_count": null,
   "id": "36b3609e",
   "metadata": {},
   "outputs": [],
   "source": [
    "n <- 3\n",
    "year <- author_birth_years[n]  # Will be 1980\n",
    "message('Birth year of author position ', n, ' is ', year)"
   ]
  },
  {
   "cell_type": "markdown",
   "id": "d3fd76f1",
   "metadata": {},
   "source": [
    "### 6.6.3 Putting it all together\n",
    "\n",
    "Here is the code we worked out above, to implement a single trial:"
   ]
  },
  {
   "cell_type": "code",
   "execution_count": null,
   "id": "9f5667f5",
   "metadata": {},
   "outputs": [],
   "source": [
    "# Get 12 random numbers from 0 through 99\n",
    "a <- sample(0:99, size=12, replace=TRUE)\n",
    "# How many are greater than 74?\n",
    "b <- sum(a == 9)\n",
    "# Show the result\n",
    "b"
   ]
  },
  {
   "cell_type": "markdown",
   "id": "22f5cd5e",
   "metadata": {},
   "source": [
    "We found that we could use vectors to store the results of these trials,\n",
    "and that we could use `for` loops to repeat the same procedure many\n",
    "times.\n",
    "\n",
    "Now we can put these parts together to do 50 simulated trials:"
   ]
  },
  {
   "cell_type": "code",
   "execution_count": null,
   "id": "08836558",
   "metadata": {},
   "outputs": [],
   "source": [
    "# Procedure for 50 simulated trials.\n",
    "\n",
    "# A vector to store the counts for each trial.\n",
    "z <- numeric(50)\n",
    "\n",
    "# Repeat the trial procedure 50 times.\n",
    "for (i in 1:50) {\n",
    "    # Get 12 random numbers from 0 through 99\n",
    "    a <- sample(0:99, size=12, replace=TRUE)\n",
    "    # How many are greater than 74?\n",
    "    b <- sum(a > 74)\n",
    "    # Store the result at the next position in the \"z\" vector.\n",
    "    z[i] = b\n",
    "    # Now go back and do the next trial until finished.\n",
    "}\n",
    "# Show the result of all 50 trials.\n",
    "z"
   ]
  },
  {
   "cell_type": "markdown",
   "id": "846bdb11",
   "metadata": {},
   "source": [
    "Finally, we need to count how many of the trials in `z` ended up with\n",
    "all-white juries. These are the trials with a `z` (count) value of 0.\n",
    "\n",
    "To do this, we can ask a vector which elements match a certain\n",
    "condition. E.g.:"
   ]
  },
  {
   "cell_type": "code",
   "execution_count": null,
   "id": "7040ae0b",
   "metadata": {},
   "outputs": [],
   "source": [
    "x <- c(2, 1, 3, 0)\n",
    "y = x < 2\n",
    "# Show the result\n",
    "y"
   ]
  },
  {
   "cell_type": "markdown",
   "id": "c2fac463",
   "metadata": {},
   "source": [
    "We now use that same technique to ask, of *each of the 50 counts*,\n",
    "whether the vector `z` is equal to 0, like this:"
   ]
  },
  {
   "cell_type": "code",
   "execution_count": null,
   "id": "479892cc",
   "metadata": {},
   "outputs": [],
   "source": [
    "# Is the value of z equal to 0?\n",
    "all_white <- z == 0\n",
    "# Show the result of the comparison.\n",
    "all_white"
   ]
  },
  {
   "cell_type": "markdown",
   "id": "dc6183b2",
   "metadata": {},
   "source": [
    "We need to get the number of `TRUE` values in `all_white`, to find how\n",
    "many simulated trials gave all-white juries."
   ]
  },
  {
   "cell_type": "code",
   "execution_count": null,
   "id": "5dd1706e",
   "metadata": {},
   "outputs": [],
   "source": [
    "# Count the number of True values in \"all_white\"\n",
    "# This is the same as the number of values in \"z\" that are equal to 0.\n",
    "n_all_white = sum(all_white)\n",
    "# Show the result of the comparison.\n",
    "n_all_white"
   ]
  },
  {
   "cell_type": "markdown",
   "id": "b9abb369",
   "metadata": {},
   "source": [
    "`n_all_white` is the number of simulated trials for which all the jury\n",
    "members were white. It only remains to get the proportion of trials for\n",
    "which this was true, and to do this, we divide by the number of trials."
   ]
  },
  {
   "cell_type": "code",
   "execution_count": null,
   "id": "3f115e19",
   "metadata": {},
   "outputs": [],
   "source": [
    "# Proportion of trials where all jury members were white.\n",
    "p <- n_all_white / 50\n",
    "# Show the result\n",
    "p"
   ]
  },
  {
   "cell_type": "markdown",
   "id": "2ce74542",
   "metadata": {},
   "source": [
    "From this initial simulation, it seems there is around a 4% chance that\n",
    "a jury selected randomly from the population, which was 26% black, would\n",
    "have no black jurors.\n",
    "\n",
    "## 6.7 Many many trials\n",
    "\n",
    "Our experiment above is only 50 simulated trials. The higher the number\n",
    "of trials, the more confident we can be of our estimate for `p` — the\n",
    "proportion of trials where we get an all-white jury.\n",
    "\n",
    "It is no extra trouble for us to tell the computer to do a very large\n",
    "number of trials. For example, we might want to run 10,000 trials\n",
    "instead of 50. All we have to do is to run the loop 10,000 times instead\n",
    "of 50 times. The computer has to do more work, but it is more than up to\n",
    "the job.\n",
    "\n",
    "Here is exactly the same code we ran above, but collected into one\n",
    "chunk, and using 10,000 trials instead of 50. We have left out the\n",
    "comments, to make the code more compact."
   ]
  },
  {
   "cell_type": "code",
   "execution_count": null,
   "id": "a7f1bcb6",
   "metadata": {},
   "outputs": [],
   "source": [
    "# Full simulation procedure, with 10,000 trials.\n",
    "z <- numeric(10000)\n",
    "for (i in 1:10000) {\n",
    "    a <- sample(0:99, size=12, replace=TRUE)\n",
    "    b <- sum(a > 74)\n",
    "    z[i] = b\n",
    "}\n",
    "all_white <- z == 0\n",
    "n_all_white <- sum(all_white)\n",
    "p <- n_all_white / 10000\n",
    "p"
   ]
  },
  {
   "cell_type": "markdown",
   "id": "7f2238f2",
   "metadata": {},
   "source": [
    "We now have a new, more accurate estimate of the proportion of\n",
    "Hypothetical County juries that are all white. The proportion is 0.032,\n",
    "and so 3.2%.\n",
    "\n",
    "This proportion means that, for any one jury from Hypothetical County,\n",
    "there is a less than one in 20 chance that the jury would be all white.\n",
    "\n",
    "As we will see in more detail later, we might consider using the results\n",
    "from this experiment in Hypothetical County, to reflect on the result we\n",
    "saw in the real Talladega County. We might conclude, for example, that\n",
    "there was likely some systematic difference between Hypothetical County\n",
    "and Talledega County. Maybe the difference was that there was, in fact,\n",
    "some bias in the jury selection in Talledega county, and that the\n",
    "Supreme Court was wrong to reject this. You will hear more of this line\n",
    "of reasoning later in the book.\n"
   ]
  }
 ],
 "metadata": {
  "jupytext": {
   "cell_metadata_filter": "-all",
   "main_language": "R",
   "notebook_metadata_filter": "-all"
  },
  "kernelspec": {
   "display_name": "R (webR)",
   "name": "webR"
  }
 },
 "nbformat": 4,
 "nbformat_minor": 5
}
