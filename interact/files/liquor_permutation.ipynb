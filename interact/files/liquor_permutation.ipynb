{
 "cells": [
  {
   "cell_type": "markdown",
   "id": "a87d13c0",
   "metadata": {},
   "source": [
    "# Permutation test of public and private liquor prices"
   ]
  },
  {
   "cell_type": "markdown",
   "id": "24046b20",
   "metadata": {},
   "source": [
    "Find this notebook on the web at\n",
    "<a class=\"quarto-xref\" href=\"/latest-r/testing_measured.html#nte-liquor_permutation\">Note <span>24.2</span></a>.\n",
    "\n",
    "This notebook asks the question whether the difference in the means of\n",
    "private and government-specified prices of a particular whiskey could\n",
    "plausibly have come about as a result of random sampling. It uses a\n",
    "permutation method, where we use a shuffled version of all 42 values to\n",
    "comprise our null-world samples."
   ]
  },
  {
   "cell_type": "code",
   "execution_count": null,
   "id": "d4104110",
   "metadata": {},
   "outputs": [],
   "source": [
    "# Load the data from a data file.\n",
    "# Read data from web URL instead of local data directory\n",
    "# (so that notebook works in online version).\n",
    "prices_df <- read.csv('/interact/files/data/liquor_prices.csv')\n",
    "# Show this first six rows.\n",
    "head(prices_df)"
   ]
  },
  {
   "cell_type": "markdown",
   "id": "76676507",
   "metadata": {},
   "source": [
    "Take all prices from the loaded data file, and convert into a vectors\n",
    "for each category."
   ]
  },
  {
   "cell_type": "code",
   "execution_count": null,
   "id": "986d1a44",
   "metadata": {},
   "outputs": [],
   "source": [
    "# Rows for private prices.\n",
    "priv_df <- subset(prices_df, prices_df['state_type'] == 'private')\n",
    "# Convert corresponding prices to vector.\n",
    "priv <- priv_df$price\n",
    "# Show the result.\n",
    "priv"
   ]
  },
  {
   "cell_type": "code",
   "execution_count": null,
   "id": "2aa8c554",
   "metadata": {},
   "outputs": [],
   "source": [
    "# Rows for government prices.\n",
    "govt_df <- subset(prices_df, prices_df['state_type'] == 'government')\n",
    "# Convert corresponding prices to vector.\n",
    "govt = govt_df$price\n",
    "# Show the result.\n",
    "govt"
   ]
  },
  {
   "cell_type": "markdown",
   "id": "86e472a4",
   "metadata": {},
   "source": [
    "Calculate actual difference:"
   ]
  },
  {
   "cell_type": "code",
   "execution_count": null,
   "id": "d667e945",
   "metadata": {},
   "outputs": [],
   "source": [
    "actual_diff <- mean(priv) - mean(govt)\n",
    "actual_diff"
   ]
  },
  {
   "cell_type": "markdown",
   "id": "658402c1",
   "metadata": {},
   "source": [
    "Concatenate the private and government values into one vector:"
   ]
  },
  {
   "cell_type": "code",
   "execution_count": null,
   "id": "bbf257ca",
   "metadata": {},
   "outputs": [],
   "source": [
    "# Join the two vectors of data into one vector.\n",
    "both <- c(priv, govt)\n",
    "both"
   ]
  },
  {
   "cell_type": "markdown",
   "id": "2d598372",
   "metadata": {},
   "source": [
    "Do simulation:"
   ]
  },
  {
   "cell_type": "code",
   "execution_count": null,
   "id": "edd1fdfe",
   "metadata": {},
   "outputs": [],
   "source": [
    "n_trials <- 10000\n",
    "\n",
    "# Fake differences for each trial.\n",
    "results <- numeric(n_trials)\n",
    "\n",
    "# Repeat 10000 simulation trials\n",
    "for (i in 1:10000) {\n",
    "\n",
    "    # Shuffle 42 values to a random order.\n",
    "    shuffled = sample(both)\n",
    "\n",
    "    # Take first 26 shuffled values as fake private group\n",
    "    fake_priv = shuffled[1:26]\n",
    "\n",
    "    # Remaining values (from position 27 to end, 16 values)\n",
    "    # form the fake government group.\n",
    "    fake_govt = shuffled[27:42]\n",
    "\n",
    "    # Find the mean of the \"private\" group.\n",
    "    p <- mean(fake_priv)\n",
    "\n",
    "    # Mean of the \"govt.\" group\n",
    "    g <- mean(fake_govt)\n",
    "\n",
    "    # Difference in the means\n",
    "    diff <- p - g\n",
    "\n",
    "    # Keep score of the trials\n",
    "    results[i] <- diff\n",
    "}\n",
    "\n",
    "# Graph of simulation results to compare with the observed result.\n",
    "fig_title <- paste('Average price difference (Actual difference = ',\n",
    "                   round(actual_diff * 100),\n",
    "                   'cents')\n",
    "hist(results, main=fig_title, xlab='Difference in average prices (cents)')\n",
    "\n",
    "# Number of trials where fake difference >= actual.\n",
    "k = sum(results >= actual_diff)\n",
    "kk = k / n_trials\n",
    "\n",
    "message('Proportion fake differences <= actual_difference: ', kk)"
   ]
  }
 ],
 "metadata": {
  "jupytext": {
   "cell_metadata_filter": "-all",
   "main_language": "R",
   "notebook_metadata_filter": "-all"
  },
  "kernelspec": {
   "display_name": "R (webR)",
   "name": "webR"
  }
 },
 "nbformat": 4,
 "nbformat_minor": 5
}
