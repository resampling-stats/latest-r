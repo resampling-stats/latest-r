{
 "cells": [
  {
   "cell_type": "markdown",
   "id": "2d65be0a",
   "metadata": {},
   "source": [
    "# Unemployment percent exercise"
   ]
  },
  {
   "cell_type": "markdown",
   "id": "2a44663f",
   "metadata": {},
   "source": [
    "Find this notebook on the web at\n",
    "<a class=\"quarto-xref\" href=\"/latest-r/confidence_2.html#nte-unemployment_percent_exercise\">Note <span>27.1</span></a>.\n",
    "\n",
    "In a sample of 200 people, 7 percent are found to be unemployed.\n",
    "Determine a 95 percent confidence interval for the true population\n",
    "proportion."
   ]
  },
  {
   "cell_type": "code",
   "execution_count": null,
   "id": "613ec34f",
   "metadata": {},
   "outputs": [],
   "source": [
    "# Your code here."
   ]
  }
 ],
 "metadata": {
  "jupytext": {
   "cell_metadata_filter": "-all",
   "main_language": "R",
   "notebook_metadata_filter": "-all"
  },
  "kernelspec": {
   "display_name": "R (webR)",
   "name": "webR"
  }
 },
 "nbformat": 4,
 "nbformat_minor": 5
}
