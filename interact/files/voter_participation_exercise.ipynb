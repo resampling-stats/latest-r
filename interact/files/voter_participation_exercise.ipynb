{
 "cells": [
  {
   "cell_type": "markdown",
   "id": "b8fc25d0",
   "metadata": {},
   "source": [
    "# Voter participation in 1844 election"
   ]
  },
  {
   "cell_type": "markdown",
   "id": "d7a009cc",
   "metadata": {},
   "source": [
    "Find this notebook on the web at\n",
    "<a class=\"quarto-xref\" href=\"/latest-r/correlation_causation.html#nte-voter_participation_exercise\">Note <span>29.9</span></a>.\n",
    "\n",
    "Notebook for voter participation exercise."
   ]
  },
  {
   "cell_type": "code",
   "execution_count": null,
   "id": "4374be43",
   "metadata": {},
   "outputs": [],
   "source": [
    "# Read data from web URL instead of local data directory\n",
    "# (so that notebook works in online version).\n",
    "voter_df <- read.csv('/interact/files/data/election_1844.csv')\n",
    "participation <- voter_df$Participation\n",
    "spread <- voter_df$Spread"
   ]
  }
 ],
 "metadata": {
  "jupytext": {
   "cell_metadata_filter": "-all",
   "main_language": "R",
   "notebook_metadata_filter": "-all"
  },
  "kernelspec": {
   "display_name": "R (webR)",
   "name": "webR"
  }
 },
 "nbformat": 4,
 "nbformat_minor": 5
}
