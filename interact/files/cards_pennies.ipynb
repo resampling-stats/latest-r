{
 "cells": [
  {
   "cell_type": "markdown",
   "id": "d81de654",
   "metadata": {},
   "source": [
    "# Cards and pennies"
   ]
  },
  {
   "cell_type": "markdown",
   "id": "c8e557aa",
   "metadata": {},
   "source": [
    "Find this notebook on the web at\n",
    "<a class=\"quarto-xref\" href=\"/latest-r/probability_theory_1a.html#nte-cards_pennies\">Note <span>8.2</span></a>.\n",
    "\n",
    "An answer for the following puzzle: “… shuffle a packet of four cards —\n",
    "two red, two black — and deal them face down in a row. Two cards are\n",
    "picked at random, say by placing a penny on each. What is the\n",
    "probability that those two cards are the same color?”"
   ]
  },
  {
   "cell_type": "code",
   "execution_count": null,
   "id": "8fd6575c",
   "metadata": {},
   "outputs": [],
   "source": [
    "# Numbers representing the slips in the hat.\n",
    "N <- c(1, 1, 2, 2)\n",
    "\n",
    "# An array in which we will store the result of each trial.\n",
    "z <- rep('No result yet', 10000)\n",
    "\n",
    "for (i in 1:10000) {\n",
    "    # sample, used in this way, has the effect of shuffling the vector\n",
    "    # into a random order.  See the section linked above for an explanation.\n",
    "    shuffled <- sample(N)\n",
    "\n",
    "    A <- shuffled[1]  # The first slip from the shuffled array.\n",
    "    B <- shuffled[2]  # The second slip from the shuffled array.\n",
    "\n",
    "    # Set the result of this trial.\n",
    "    if (A == B) {\n",
    "        z[i] <- 'Yes'\n",
    "    } else {\n",
    "        z[i] <- 'No'\n",
    "    }\n",
    "}  # End of the loop.\n",
    "\n",
    "# How many times did we see \"Yes\"?\n",
    "k <- sum(z == 'Yes')\n",
    "\n",
    "# The proportion.\n",
    "kk <- k / 10000\n",
    "\n",
    "message(kk)"
   ]
  },
  {
   "cell_type": "markdown",
   "id": "eeee2f05",
   "metadata": {},
   "source": [
    "Now let’s play the game differently, first picking one card and *putting\n",
    "it back and shuffling* before picking a second card. What are the\n",
    "results now? You can try it with the cards, but here is another program,\n",
    "similar to the last, to run that variation."
   ]
  },
  {
   "cell_type": "code",
   "execution_count": null,
   "id": "cded5578",
   "metadata": {},
   "outputs": [],
   "source": [
    "# An array in which we will store the result of each trial.\n",
    "z <- rep('No result yet', 10000)\n",
    "\n",
    "for (i in 1:10000) {\n",
    "    # Shuffle the numbers in N into a random order.\n",
    "    first_shuffle <- sample(N)\n",
    "    # Draw a slip of paper.\n",
    "    A <- first_shuffle[1]  # The first slip.\n",
    "\n",
    "    # Shuffle again (with all the slips).\n",
    "    second_shuffle <- sample(N)\n",
    "    # Draw a slip of paper.\n",
    "    B <- second_shuffle[1]  # The second slip.\n",
    "\n",
    "    # Set the result of this trial.\n",
    "    if (A == B) {\n",
    "        z[i] <- 'Yes'\n",
    "    } else {\n",
    "        z[i] <- 'No'\n",
    "    }\n",
    "}  # End of the loop.\n",
    "\n",
    "# How many times did we see \"Yes\"?\n",
    "k <- sum(z == 'Yes')\n",
    "\n",
    "# The proportion.\n",
    "kk <- k / 10000\n",
    "\n",
    "message(kk)"
   ]
  }
 ],
 "metadata": {
  "jupytext": {
   "cell_metadata_filter": "-all",
   "main_language": "R",
   "notebook_metadata_filter": "-all"
  },
  "kernelspec": {
   "display_name": "R (webR)",
   "name": "webR"
  }
 },
 "nbformat": 4,
 "nbformat_minor": 5
}
