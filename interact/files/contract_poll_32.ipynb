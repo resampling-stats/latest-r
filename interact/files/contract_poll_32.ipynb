{
 "cells": [
  {
   "cell_type": "markdown",
   "id": "60ddda4c",
   "metadata": {},
   "source": [
    "# Contract poll looking for &gt;=32"
   ]
  },
  {
   "cell_type": "markdown",
   "id": "f9733572",
   "metadata": {},
   "source": [
    "Find this notebook on the web at\n",
    "<a class=\"quarto-xref\" href=\"/latest-r/how_big_sample.html#nte-contract_poll_32\">Note <span>30.4</span></a>.\n",
    "\n",
    "This R notebook generates samples of 50 simulated voters on the\n",
    "assumption that only 50 percent are in favor of the contract. Then it\n",
    "counts the number of generated samples where 32 or more of the 50\n",
    "respondents said they were in favor of the contract."
   ]
  },
  {
   "cell_type": "code",
   "execution_count": null,
   "id": "913b25fa",
   "metadata": {},
   "outputs": [],
   "source": [
    "n_trials <- 10000\n",
    "\n",
    "yeses <- numeric(n_trials)\n",
    "\n",
    "for (i in 1:n_trials) {\n",
    "    answers <- sample(c('No', 'Yes'), size=50, replace=TRUE)\n",
    "    yeses[i] <- sum(answers == 'Yes')\n",
    "}\n",
    "\n",
    "k <- sum(yeses >= 32)\n",
    "kk <- k / n_trials\n",
    "\n",
    "message('Proportion >= 32: ', round(kk, 2))"
   ]
  }
 ],
 "metadata": {
  "jupytext": {
   "cell_metadata_filter": "-all",
   "main_language": "R",
   "notebook_metadata_filter": "-all"
  },
  "kernelspec": {
   "display_name": "R (webR)",
   "name": "webR"
  }
 },
 "nbformat": 4,
 "nbformat_minor": 5
}
