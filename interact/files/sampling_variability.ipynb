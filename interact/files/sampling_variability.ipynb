{
 "cells": [
  {
   "cell_type": "markdown",
   "id": "83737cbe",
   "metadata": {},
   "source": [
    "# Experiment in sampling variability"
   ]
  },
  {
   "cell_type": "markdown",
   "id": "d9fb47c8",
   "metadata": {},
   "source": [
    "Find this notebook on the web at\n",
    "<a class=\"quarto-xref\" href=\"/latest-r/sampling_variability.html#nte-sampling_variability\">Note <span>14.1</span></a>.\n",
    "\n",
    "Try generating some rookie “seasons” yourself with the following\n",
    "commands, ranging the batter’s “true” performance by changing the value\n",
    "of `p_hit` (the probability of a hit)."
   ]
  },
  {
   "cell_type": "code",
   "execution_count": null,
   "id": "feb553de",
   "metadata": {},
   "outputs": [],
   "source": [
    "# Simulate a rookie season of 400 at-bats.\n",
    "\n",
    "# You might try changing the value below and rerunning.\n",
    "# This is the true (long-run) probability of a hit for this batter.\n",
    "p_hit <- 0.4\n",
    "message('True average is: ', p_hit)"
   ]
  },
  {
   "cell_type": "code",
   "execution_count": null,
   "id": "d36747f4",
   "metadata": {},
   "outputs": [],
   "source": [
    "# We resample _with_ replacement here; the chances of a hit do not change\n",
    "# From at-bat to at-bat.\n",
    "at_bats <- sample(c('Hit', 'Out'), prob=c(p_hit, 1 - p_hit), size=400, replace=TRUE)\n",
    "simulated_average <- sum(at_bats == 'Hit') / 400\n",
    "# Show the result\n",
    "message('Simulated average is: ', simulated_average)"
   ]
  },
  {
   "cell_type": "markdown",
   "id": "d452b50e",
   "metadata": {},
   "source": [
    "Simulate a set of 10 or 20 such rookie seasons, and look at the one who\n",
    "did best. How did their rookie season compare to their “true” average?"
   ]
  }
 ],
 "metadata": {
  "jupytext": {
   "cell_metadata_filter": "-all",
   "main_language": "R",
   "notebook_metadata_filter": "-all"
  },
  "kernelspec": {
   "display_name": "R (webR)",
   "name": "webR"
  }
 },
 "nbformat": 4,
 "nbformat_minor": 5
}
